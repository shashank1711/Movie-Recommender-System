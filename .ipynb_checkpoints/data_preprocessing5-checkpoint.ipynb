{
 "cells": [
  {
   "cell_type": "markdown",
   "metadata": {},
   "source": [
    "### Importing the Libraries"
   ]
  },
  {
   "cell_type": "code",
   "execution_count": 1,
   "metadata": {},
   "outputs": [],
   "source": [
    "import pandas as pd\n",
    "import numpy as np"
   ]
  },
  {
   "cell_type": "markdown",
   "metadata": {},
   "source": [
    "### Extracting the 2019 movies data from the Wikipedia"
   ]
  },
  {
   "cell_type": "code",
   "execution_count": 2,
   "metadata": {},
   "outputs": [],
   "source": [
    "link = 'https://en.wikipedia.org/wiki/List_of_American_films_of_2019'\n",
    "table1 = pd.read_html(link, header= 0)[3]\n",
    "table2 = pd.read_html(link, header= 0)[4]\n",
    "table3 = pd.read_html(link, header= 0)[5]\n",
    "table4 = pd.read_html(link, header= 0)[6]"
   ]
  },
  {
   "cell_type": "code",
   "execution_count": 3,
   "metadata": {},
   "outputs": [],
   "source": [
    "movies_df = table1.append(table2.append(table3.append(table4,ignore_index= True),ignore_index= True),ignore_index= True)"
   ]
  },
  {
   "cell_type": "code",
   "execution_count": 4,
   "metadata": {},
   "outputs": [
    {
     "data": {
      "text/html": [
       "<div>\n",
       "<style scoped>\n",
       "    .dataframe tbody tr th:only-of-type {\n",
       "        vertical-align: middle;\n",
       "    }\n",
       "\n",
       "    .dataframe tbody tr th {\n",
       "        vertical-align: top;\n",
       "    }\n",
       "\n",
       "    .dataframe thead th {\n",
       "        text-align: right;\n",
       "    }\n",
       "</style>\n",
       "<table border=\"1\" class=\"dataframe\">\n",
       "  <thead>\n",
       "    <tr style=\"text-align: right;\">\n",
       "      <th></th>\n",
       "      <th>Opening</th>\n",
       "      <th>Opening.1</th>\n",
       "      <th>Title</th>\n",
       "      <th>Production company</th>\n",
       "      <th>Cast and crew</th>\n",
       "      <th>Ref.</th>\n",
       "    </tr>\n",
       "  </thead>\n",
       "  <tbody>\n",
       "    <tr>\n",
       "      <th>0</th>\n",
       "      <td>JANUARY</td>\n",
       "      <td>4</td>\n",
       "      <td>Escape Room</td>\n",
       "      <td>Columbia Pictures</td>\n",
       "      <td>Adam Robitel (director); Bragi F. Schut, Maria...</td>\n",
       "      <td>[2]</td>\n",
       "    </tr>\n",
       "    <tr>\n",
       "      <th>1</th>\n",
       "      <td>JANUARY</td>\n",
       "      <td>4</td>\n",
       "      <td>Rust Creek</td>\n",
       "      <td>IFC Films</td>\n",
       "      <td>Jen McGowan (director); Julie Lipson (screenpl...</td>\n",
       "      <td>[3]</td>\n",
       "    </tr>\n",
       "    <tr>\n",
       "      <th>2</th>\n",
       "      <td>JANUARY</td>\n",
       "      <td>4</td>\n",
       "      <td>American Hangman</td>\n",
       "      <td>Hangman Justice Productions</td>\n",
       "      <td>Wilson Coneybeare (director/screenplay); Donal...</td>\n",
       "      <td>[4]</td>\n",
       "    </tr>\n",
       "    <tr>\n",
       "      <th>3</th>\n",
       "      <td>JANUARY</td>\n",
       "      <td>11</td>\n",
       "      <td>A Dog's Way Home</td>\n",
       "      <td>Columbia Pictures</td>\n",
       "      <td>Charles Martin Smith (director); W. Bruce Came...</td>\n",
       "      <td>[5]</td>\n",
       "    </tr>\n",
       "    <tr>\n",
       "      <th>4</th>\n",
       "      <td>JANUARY</td>\n",
       "      <td>11</td>\n",
       "      <td>The Upside</td>\n",
       "      <td>STX Entertainment</td>\n",
       "      <td>Neil Burger (director); Jon Hartmere (screenpl...</td>\n",
       "      <td>[6]</td>\n",
       "    </tr>\n",
       "  </tbody>\n",
       "</table>\n",
       "</div>"
      ],
      "text/plain": [
       "   Opening  Opening.1             Title           Production company  \\\n",
       "0  JANUARY          4       Escape Room            Columbia Pictures   \n",
       "1  JANUARY          4        Rust Creek                    IFC Films   \n",
       "2  JANUARY          4  American Hangman  Hangman Justice Productions   \n",
       "3  JANUARY         11  A Dog's Way Home            Columbia Pictures   \n",
       "4  JANUARY         11        The Upside            STX Entertainment   \n",
       "\n",
       "                                       Cast and crew Ref.  \n",
       "0  Adam Robitel (director); Bragi F. Schut, Maria...  [2]  \n",
       "1  Jen McGowan (director); Julie Lipson (screenpl...  [3]  \n",
       "2  Wilson Coneybeare (director/screenplay); Donal...  [4]  \n",
       "3  Charles Martin Smith (director); W. Bruce Came...  [5]  \n",
       "4  Neil Burger (director); Jon Hartmere (screenpl...  [6]  "
      ]
     },
     "execution_count": 4,
     "metadata": {},
     "output_type": "execute_result"
    }
   ],
   "source": [
    "movies_df.head()"
   ]
  },
  {
   "cell_type": "code",
   "execution_count": 5,
   "metadata": {},
   "outputs": [
    {
     "data": {
      "text/plain": [
       "(241, 6)"
      ]
     },
     "execution_count": 5,
     "metadata": {},
     "output_type": "execute_result"
    }
   ],
   "source": [
    "movies_df.shape"
   ]
  },
  {
   "cell_type": "code",
   "execution_count": 6,
   "metadata": {},
   "outputs": [],
   "source": [
    "# Getting genre column from TMDB\n",
    "from tmdbv3api import TMDb\n",
    "tmdb = TMDb()\n",
    "tmdb.api_key = ''"
   ]
  },
  {
   "cell_type": "code",
   "execution_count": 7,
   "metadata": {},
   "outputs": [],
   "source": [
    "from tmdbv3api import Movie\n",
    "import requests\n",
    "import json\n",
    "tmdb_movie = Movie()"
   ]
  },
  {
   "cell_type": "code",
   "execution_count": 8,
   "metadata": {},
   "outputs": [],
   "source": [
    "def get_genre(x):\n",
    "    genres = []\n",
    "    result = tmdb_movie.search(x)\n",
    "    movie_id = result[0].id\n",
    "    response = requests.get('https://api.themoviedb.org/3/movie/{}?api_key={}' .format(movie_id, tmdb.api_key))\n",
    "    data = response.json()\n",
    "    if data['genres']:\n",
    "        genre_names = ' '\n",
    "        for i in range(len(data['genres'])):\n",
    "            genres.append(data['genres'][i]['name'])\n",
    "        return genre_names.join(genres)\n",
    "    else:\n",
    "        np.NaN"
   ]
  },
  {
   "cell_type": "code",
   "execution_count": 9,
   "metadata": {},
   "outputs": [],
   "source": [
    "movies_df['genres'] = movies_df['Title'].map(lambda x: get_genre(str(x)))"
   ]
  },
  {
   "cell_type": "code",
   "execution_count": 10,
   "metadata": {},
   "outputs": [
    {
     "data": {
      "text/html": [
       "<div>\n",
       "<style scoped>\n",
       "    .dataframe tbody tr th:only-of-type {\n",
       "        vertical-align: middle;\n",
       "    }\n",
       "\n",
       "    .dataframe tbody tr th {\n",
       "        vertical-align: top;\n",
       "    }\n",
       "\n",
       "    .dataframe thead th {\n",
       "        text-align: right;\n",
       "    }\n",
       "</style>\n",
       "<table border=\"1\" class=\"dataframe\">\n",
       "  <thead>\n",
       "    <tr style=\"text-align: right;\">\n",
       "      <th></th>\n",
       "      <th>Opening</th>\n",
       "      <th>Opening.1</th>\n",
       "      <th>Title</th>\n",
       "      <th>Production company</th>\n",
       "      <th>Cast and crew</th>\n",
       "      <th>Ref.</th>\n",
       "      <th>genres</th>\n",
       "    </tr>\n",
       "  </thead>\n",
       "  <tbody>\n",
       "    <tr>\n",
       "      <th>0</th>\n",
       "      <td>JANUARY</td>\n",
       "      <td>4</td>\n",
       "      <td>Escape Room</td>\n",
       "      <td>Columbia Pictures</td>\n",
       "      <td>Adam Robitel (director); Bragi F. Schut, Maria...</td>\n",
       "      <td>[2]</td>\n",
       "      <td>Thriller Action Mystery Horror</td>\n",
       "    </tr>\n",
       "    <tr>\n",
       "      <th>1</th>\n",
       "      <td>JANUARY</td>\n",
       "      <td>4</td>\n",
       "      <td>Rust Creek</td>\n",
       "      <td>IFC Films</td>\n",
       "      <td>Jen McGowan (director); Julie Lipson (screenpl...</td>\n",
       "      <td>[3]</td>\n",
       "      <td>Thriller Drama</td>\n",
       "    </tr>\n",
       "    <tr>\n",
       "      <th>2</th>\n",
       "      <td>JANUARY</td>\n",
       "      <td>4</td>\n",
       "      <td>American Hangman</td>\n",
       "      <td>Hangman Justice Productions</td>\n",
       "      <td>Wilson Coneybeare (director/screenplay); Donal...</td>\n",
       "      <td>[4]</td>\n",
       "      <td>Thriller</td>\n",
       "    </tr>\n",
       "    <tr>\n",
       "      <th>3</th>\n",
       "      <td>JANUARY</td>\n",
       "      <td>11</td>\n",
       "      <td>A Dog's Way Home</td>\n",
       "      <td>Columbia Pictures</td>\n",
       "      <td>Charles Martin Smith (director); W. Bruce Came...</td>\n",
       "      <td>[5]</td>\n",
       "      <td>Drama Adventure Family</td>\n",
       "    </tr>\n",
       "    <tr>\n",
       "      <th>4</th>\n",
       "      <td>JANUARY</td>\n",
       "      <td>11</td>\n",
       "      <td>The Upside</td>\n",
       "      <td>STX Entertainment</td>\n",
       "      <td>Neil Burger (director); Jon Hartmere (screenpl...</td>\n",
       "      <td>[6]</td>\n",
       "      <td>Comedy Drama</td>\n",
       "    </tr>\n",
       "  </tbody>\n",
       "</table>\n",
       "</div>"
      ],
      "text/plain": [
       "   Opening  Opening.1             Title           Production company  \\\n",
       "0  JANUARY          4       Escape Room            Columbia Pictures   \n",
       "1  JANUARY          4        Rust Creek                    IFC Films   \n",
       "2  JANUARY          4  American Hangman  Hangman Justice Productions   \n",
       "3  JANUARY         11  A Dog's Way Home            Columbia Pictures   \n",
       "4  JANUARY         11        The Upside            STX Entertainment   \n",
       "\n",
       "                                       Cast and crew Ref.  \\\n",
       "0  Adam Robitel (director); Bragi F. Schut, Maria...  [2]   \n",
       "1  Jen McGowan (director); Julie Lipson (screenpl...  [3]   \n",
       "2  Wilson Coneybeare (director/screenplay); Donal...  [4]   \n",
       "3  Charles Martin Smith (director); W. Bruce Came...  [5]   \n",
       "4  Neil Burger (director); Jon Hartmere (screenpl...  [6]   \n",
       "\n",
       "                           genres  \n",
       "0  Thriller Action Mystery Horror  \n",
       "1                  Thriller Drama  \n",
       "2                        Thriller  \n",
       "3          Drama Adventure Family  \n",
       "4                    Comedy Drama  "
      ]
     },
     "execution_count": 10,
     "metadata": {},
     "output_type": "execute_result"
    }
   ],
   "source": [
    "movies_df.head()"
   ]
  },
  {
   "cell_type": "code",
   "execution_count": 11,
   "metadata": {},
   "outputs": [
    {
     "data": {
      "text/plain": [
       "Opening               0\n",
       "Opening.1             0\n",
       "Title                 0\n",
       "Production company    0\n",
       "Cast and crew         0\n",
       "Ref.                  7\n",
       "genres                1\n",
       "dtype: int64"
      ]
     },
     "execution_count": 11,
     "metadata": {},
     "output_type": "execute_result"
    }
   ],
   "source": [
    "movies_df.isnull().sum()"
   ]
  },
  {
   "cell_type": "code",
   "execution_count": 12,
   "metadata": {},
   "outputs": [],
   "source": [
    "movies_df = movies_df.dropna()"
   ]
  },
  {
   "cell_type": "code",
   "execution_count": 13,
   "metadata": {},
   "outputs": [
    {
     "data": {
      "text/plain": [
       "Opening               0\n",
       "Opening.1             0\n",
       "Title                 0\n",
       "Production company    0\n",
       "Cast and crew         0\n",
       "Ref.                  0\n",
       "genres                0\n",
       "dtype: int64"
      ]
     },
     "execution_count": 13,
     "metadata": {},
     "output_type": "execute_result"
    }
   ],
   "source": [
    "movies_df.isnull().sum()"
   ]
  },
  {
   "cell_type": "code",
   "execution_count": 14,
   "metadata": {},
   "outputs": [
    {
     "name": "stdout",
     "output_type": "stream",
     "text": [
      "<class 'str'>\n"
     ]
    }
   ],
   "source": [
    "print(type(movies_df.loc[0, 'genres']))"
   ]
  },
  {
   "cell_type": "code",
   "execution_count": 15,
   "metadata": {},
   "outputs": [],
   "source": [
    "# Converting string to list in genres column\n",
    "def convert(string):\n",
    "    li = list(string.split(\" \")) \n",
    "    return li"
   ]
  },
  {
   "cell_type": "code",
   "execution_count": 16,
   "metadata": {},
   "outputs": [],
   "source": [
    "movies_df['genres'] = movies_df['genres'].map(lambda x: convert(x))"
   ]
  },
  {
   "cell_type": "code",
   "execution_count": 17,
   "metadata": {},
   "outputs": [
    {
     "data": {
      "text/html": [
       "<div>\n",
       "<style scoped>\n",
       "    .dataframe tbody tr th:only-of-type {\n",
       "        vertical-align: middle;\n",
       "    }\n",
       "\n",
       "    .dataframe tbody tr th {\n",
       "        vertical-align: top;\n",
       "    }\n",
       "\n",
       "    .dataframe thead th {\n",
       "        text-align: right;\n",
       "    }\n",
       "</style>\n",
       "<table border=\"1\" class=\"dataframe\">\n",
       "  <thead>\n",
       "    <tr style=\"text-align: right;\">\n",
       "      <th></th>\n",
       "      <th>Opening</th>\n",
       "      <th>Opening.1</th>\n",
       "      <th>Title</th>\n",
       "      <th>Production company</th>\n",
       "      <th>Cast and crew</th>\n",
       "      <th>Ref.</th>\n",
       "      <th>genres</th>\n",
       "    </tr>\n",
       "  </thead>\n",
       "  <tbody>\n",
       "    <tr>\n",
       "      <th>0</th>\n",
       "      <td>JANUARY</td>\n",
       "      <td>4</td>\n",
       "      <td>Escape Room</td>\n",
       "      <td>Columbia Pictures</td>\n",
       "      <td>Adam Robitel (director); Bragi F. Schut, Maria...</td>\n",
       "      <td>[2]</td>\n",
       "      <td>[Thriller, Action, Mystery, Horror]</td>\n",
       "    </tr>\n",
       "    <tr>\n",
       "      <th>1</th>\n",
       "      <td>JANUARY</td>\n",
       "      <td>4</td>\n",
       "      <td>Rust Creek</td>\n",
       "      <td>IFC Films</td>\n",
       "      <td>Jen McGowan (director); Julie Lipson (screenpl...</td>\n",
       "      <td>[3]</td>\n",
       "      <td>[Thriller, Drama]</td>\n",
       "    </tr>\n",
       "    <tr>\n",
       "      <th>2</th>\n",
       "      <td>JANUARY</td>\n",
       "      <td>4</td>\n",
       "      <td>American Hangman</td>\n",
       "      <td>Hangman Justice Productions</td>\n",
       "      <td>Wilson Coneybeare (director/screenplay); Donal...</td>\n",
       "      <td>[4]</td>\n",
       "      <td>[Thriller]</td>\n",
       "    </tr>\n",
       "    <tr>\n",
       "      <th>3</th>\n",
       "      <td>JANUARY</td>\n",
       "      <td>11</td>\n",
       "      <td>A Dog's Way Home</td>\n",
       "      <td>Columbia Pictures</td>\n",
       "      <td>Charles Martin Smith (director); W. Bruce Came...</td>\n",
       "      <td>[5]</td>\n",
       "      <td>[Drama, Adventure, Family]</td>\n",
       "    </tr>\n",
       "    <tr>\n",
       "      <th>4</th>\n",
       "      <td>JANUARY</td>\n",
       "      <td>11</td>\n",
       "      <td>The Upside</td>\n",
       "      <td>STX Entertainment</td>\n",
       "      <td>Neil Burger (director); Jon Hartmere (screenpl...</td>\n",
       "      <td>[6]</td>\n",
       "      <td>[Comedy, Drama]</td>\n",
       "    </tr>\n",
       "  </tbody>\n",
       "</table>\n",
       "</div>"
      ],
      "text/plain": [
       "   Opening  Opening.1             Title           Production company  \\\n",
       "0  JANUARY          4       Escape Room            Columbia Pictures   \n",
       "1  JANUARY          4        Rust Creek                    IFC Films   \n",
       "2  JANUARY          4  American Hangman  Hangman Justice Productions   \n",
       "3  JANUARY         11  A Dog's Way Home            Columbia Pictures   \n",
       "4  JANUARY         11        The Upside            STX Entertainment   \n",
       "\n",
       "                                       Cast and crew Ref.  \\\n",
       "0  Adam Robitel (director); Bragi F. Schut, Maria...  [2]   \n",
       "1  Jen McGowan (director); Julie Lipson (screenpl...  [3]   \n",
       "2  Wilson Coneybeare (director/screenplay); Donal...  [4]   \n",
       "3  Charles Martin Smith (director); W. Bruce Came...  [5]   \n",
       "4  Neil Burger (director); Jon Hartmere (screenpl...  [6]   \n",
       "\n",
       "                                genres  \n",
       "0  [Thriller, Action, Mystery, Horror]  \n",
       "1                    [Thriller, Drama]  \n",
       "2                           [Thriller]  \n",
       "3           [Drama, Adventure, Family]  \n",
       "4                      [Comedy, Drama]  "
      ]
     },
     "execution_count": 17,
     "metadata": {},
     "output_type": "execute_result"
    }
   ],
   "source": [
    "movies_df.head()"
   ]
  },
  {
   "cell_type": "code",
   "execution_count": 18,
   "metadata": {},
   "outputs": [
    {
     "data": {
      "text/plain": [
       "['Thriller', 'Action', 'Mystery', 'Horror']"
      ]
     },
     "execution_count": 18,
     "metadata": {},
     "output_type": "execute_result"
    }
   ],
   "source": [
    "movies_df.loc[0, 'genres']"
   ]
  },
  {
   "cell_type": "code",
   "execution_count": 19,
   "metadata": {},
   "outputs": [
    {
     "data": {
      "text/plain": [
       "'Adam Robitel (director); Bragi F. Schut, Maria Melnik (screenplay); Taylor Russell, Logan Miller, Deborah Ann Woll, Tyler Labine, Jay Ellis, Nik Dodani, Yorick van Wageningen'"
      ]
     },
     "execution_count": 19,
     "metadata": {},
     "output_type": "execute_result"
    }
   ],
   "source": [
    "movies_df.loc[0, 'Cast and crew']"
   ]
  },
  {
   "cell_type": "code",
   "execution_count": 20,
   "metadata": {},
   "outputs": [],
   "source": [
    "# Getting the cast of the movie\n",
    "def get_cast(x):\n",
    "    return ((x.split(\"screenplay); \")[-1]).split(\", \")[0:3])"
   ]
  },
  {
   "cell_type": "code",
   "execution_count": 21,
   "metadata": {},
   "outputs": [],
   "source": [
    "movies_df['cast'] = movies_df['Cast and crew'].map(lambda x: get_cast(x))"
   ]
  },
  {
   "cell_type": "code",
   "execution_count": 22,
   "metadata": {},
   "outputs": [
    {
     "data": {
      "text/html": [
       "<div>\n",
       "<style scoped>\n",
       "    .dataframe tbody tr th:only-of-type {\n",
       "        vertical-align: middle;\n",
       "    }\n",
       "\n",
       "    .dataframe tbody tr th {\n",
       "        vertical-align: top;\n",
       "    }\n",
       "\n",
       "    .dataframe thead th {\n",
       "        text-align: right;\n",
       "    }\n",
       "</style>\n",
       "<table border=\"1\" class=\"dataframe\">\n",
       "  <thead>\n",
       "    <tr style=\"text-align: right;\">\n",
       "      <th></th>\n",
       "      <th>Opening</th>\n",
       "      <th>Opening.1</th>\n",
       "      <th>Title</th>\n",
       "      <th>Production company</th>\n",
       "      <th>Cast and crew</th>\n",
       "      <th>Ref.</th>\n",
       "      <th>genres</th>\n",
       "      <th>cast</th>\n",
       "    </tr>\n",
       "  </thead>\n",
       "  <tbody>\n",
       "    <tr>\n",
       "      <th>0</th>\n",
       "      <td>JANUARY</td>\n",
       "      <td>4</td>\n",
       "      <td>Escape Room</td>\n",
       "      <td>Columbia Pictures</td>\n",
       "      <td>Adam Robitel (director); Bragi F. Schut, Maria...</td>\n",
       "      <td>[2]</td>\n",
       "      <td>[Thriller, Action, Mystery, Horror]</td>\n",
       "      <td>[Taylor Russell, Logan Miller, Deborah Ann Woll]</td>\n",
       "    </tr>\n",
       "    <tr>\n",
       "      <th>1</th>\n",
       "      <td>JANUARY</td>\n",
       "      <td>4</td>\n",
       "      <td>Rust Creek</td>\n",
       "      <td>IFC Films</td>\n",
       "      <td>Jen McGowan (director); Julie Lipson (screenpl...</td>\n",
       "      <td>[3]</td>\n",
       "      <td>[Thriller, Drama]</td>\n",
       "      <td>[Hermione Corfield, Jay Paulson, Sean O'Bryan]</td>\n",
       "    </tr>\n",
       "    <tr>\n",
       "      <th>2</th>\n",
       "      <td>JANUARY</td>\n",
       "      <td>4</td>\n",
       "      <td>American Hangman</td>\n",
       "      <td>Hangman Justice Productions</td>\n",
       "      <td>Wilson Coneybeare (director/screenplay); Donal...</td>\n",
       "      <td>[4]</td>\n",
       "      <td>[Thriller]</td>\n",
       "      <td>[Donald Sutherland, Vincent Kartheiser, Oliver...</td>\n",
       "    </tr>\n",
       "    <tr>\n",
       "      <th>3</th>\n",
       "      <td>JANUARY</td>\n",
       "      <td>11</td>\n",
       "      <td>A Dog's Way Home</td>\n",
       "      <td>Columbia Pictures</td>\n",
       "      <td>Charles Martin Smith (director); W. Bruce Came...</td>\n",
       "      <td>[5]</td>\n",
       "      <td>[Drama, Adventure, Family]</td>\n",
       "      <td>[Bryce Dallas Howard, Edward James Olmos, Alex...</td>\n",
       "    </tr>\n",
       "    <tr>\n",
       "      <th>4</th>\n",
       "      <td>JANUARY</td>\n",
       "      <td>11</td>\n",
       "      <td>The Upside</td>\n",
       "      <td>STX Entertainment</td>\n",
       "      <td>Neil Burger (director); Jon Hartmere (screenpl...</td>\n",
       "      <td>[6]</td>\n",
       "      <td>[Comedy, Drama]</td>\n",
       "      <td>[Bryan Cranston, Kevin Hart, Nicole Kidman]</td>\n",
       "    </tr>\n",
       "  </tbody>\n",
       "</table>\n",
       "</div>"
      ],
      "text/plain": [
       "   Opening  Opening.1             Title           Production company  \\\n",
       "0  JANUARY          4       Escape Room            Columbia Pictures   \n",
       "1  JANUARY          4        Rust Creek                    IFC Films   \n",
       "2  JANUARY          4  American Hangman  Hangman Justice Productions   \n",
       "3  JANUARY         11  A Dog's Way Home            Columbia Pictures   \n",
       "4  JANUARY         11        The Upside            STX Entertainment   \n",
       "\n",
       "                                       Cast and crew Ref.  \\\n",
       "0  Adam Robitel (director); Bragi F. Schut, Maria...  [2]   \n",
       "1  Jen McGowan (director); Julie Lipson (screenpl...  [3]   \n",
       "2  Wilson Coneybeare (director/screenplay); Donal...  [4]   \n",
       "3  Charles Martin Smith (director); W. Bruce Came...  [5]   \n",
       "4  Neil Burger (director); Jon Hartmere (screenpl...  [6]   \n",
       "\n",
       "                                genres  \\\n",
       "0  [Thriller, Action, Mystery, Horror]   \n",
       "1                    [Thriller, Drama]   \n",
       "2                           [Thriller]   \n",
       "3           [Drama, Adventure, Family]   \n",
       "4                      [Comedy, Drama]   \n",
       "\n",
       "                                                cast  \n",
       "0   [Taylor Russell, Logan Miller, Deborah Ann Woll]  \n",
       "1     [Hermione Corfield, Jay Paulson, Sean O'Bryan]  \n",
       "2  [Donald Sutherland, Vincent Kartheiser, Oliver...  \n",
       "3  [Bryce Dallas Howard, Edward James Olmos, Alex...  \n",
       "4        [Bryan Cranston, Kevin Hart, Nicole Kidman]  "
      ]
     },
     "execution_count": 22,
     "metadata": {},
     "output_type": "execute_result"
    }
   ],
   "source": [
    "movies_df.head()"
   ]
  },
  {
   "cell_type": "code",
   "execution_count": 23,
   "metadata": {},
   "outputs": [
    {
     "data": {
      "text/plain": [
       "['James Badge Dale', 'Brian Geraghty']"
      ]
     },
     "execution_count": 23,
     "metadata": {},
     "output_type": "execute_result"
    }
   ],
   "source": [
    "movies_df.loc[9, 'cast']"
   ]
  },
  {
   "cell_type": "code",
   "execution_count": 24,
   "metadata": {},
   "outputs": [
    {
     "data": {
      "text/plain": [
       "Index(['Opening', 'Opening.1', 'Title', 'Production company', 'Cast and crew',\n",
       "       'Ref.', 'genres', 'cast'],\n",
       "      dtype='object')"
      ]
     },
     "execution_count": 24,
     "metadata": {},
     "output_type": "execute_result"
    }
   ],
   "source": [
    "movies_df.columns"
   ]
  },
  {
   "cell_type": "code",
   "execution_count": 25,
   "metadata": {},
   "outputs": [],
   "source": [
    "movies_df = movies_df.rename(columns= {'Title': 'original_title'})"
   ]
  },
  {
   "cell_type": "code",
   "execution_count": 26,
   "metadata": {},
   "outputs": [],
   "source": [
    "# Getting the movie id from TMDB api\n",
    "def get_id(x):\n",
    "    result = tmdb_movie.search(x)\n",
    "    movie_id = result[0].id\n",
    "    return movie_id"
   ]
  },
  {
   "cell_type": "code",
   "execution_count": 27,
   "metadata": {},
   "outputs": [],
   "source": [
    "movies_df['movie_id'] = movies_df['original_title'].map(lambda x: get_id(str(x)))"
   ]
  },
  {
   "cell_type": "code",
   "execution_count": 28,
   "metadata": {},
   "outputs": [
    {
     "data": {
      "text/html": [
       "<div>\n",
       "<style scoped>\n",
       "    .dataframe tbody tr th:only-of-type {\n",
       "        vertical-align: middle;\n",
       "    }\n",
       "\n",
       "    .dataframe tbody tr th {\n",
       "        vertical-align: top;\n",
       "    }\n",
       "\n",
       "    .dataframe thead th {\n",
       "        text-align: right;\n",
       "    }\n",
       "</style>\n",
       "<table border=\"1\" class=\"dataframe\">\n",
       "  <thead>\n",
       "    <tr style=\"text-align: right;\">\n",
       "      <th></th>\n",
       "      <th>Opening</th>\n",
       "      <th>Opening.1</th>\n",
       "      <th>original_title</th>\n",
       "      <th>Production company</th>\n",
       "      <th>Cast and crew</th>\n",
       "      <th>Ref.</th>\n",
       "      <th>genres</th>\n",
       "      <th>cast</th>\n",
       "      <th>movie_id</th>\n",
       "    </tr>\n",
       "  </thead>\n",
       "  <tbody>\n",
       "    <tr>\n",
       "      <th>0</th>\n",
       "      <td>JANUARY</td>\n",
       "      <td>4</td>\n",
       "      <td>Escape Room</td>\n",
       "      <td>Columbia Pictures</td>\n",
       "      <td>Adam Robitel (director); Bragi F. Schut, Maria...</td>\n",
       "      <td>[2]</td>\n",
       "      <td>[Thriller, Action, Mystery, Horror]</td>\n",
       "      <td>[Taylor Russell, Logan Miller, Deborah Ann Woll]</td>\n",
       "      <td>522681</td>\n",
       "    </tr>\n",
       "    <tr>\n",
       "      <th>1</th>\n",
       "      <td>JANUARY</td>\n",
       "      <td>4</td>\n",
       "      <td>Rust Creek</td>\n",
       "      <td>IFC Films</td>\n",
       "      <td>Jen McGowan (director); Julie Lipson (screenpl...</td>\n",
       "      <td>[3]</td>\n",
       "      <td>[Thriller, Drama]</td>\n",
       "      <td>[Hermione Corfield, Jay Paulson, Sean O'Bryan]</td>\n",
       "      <td>561362</td>\n",
       "    </tr>\n",
       "    <tr>\n",
       "      <th>2</th>\n",
       "      <td>JANUARY</td>\n",
       "      <td>4</td>\n",
       "      <td>American Hangman</td>\n",
       "      <td>Hangman Justice Productions</td>\n",
       "      <td>Wilson Coneybeare (director/screenplay); Donal...</td>\n",
       "      <td>[4]</td>\n",
       "      <td>[Thriller]</td>\n",
       "      <td>[Donald Sutherland, Vincent Kartheiser, Oliver...</td>\n",
       "      <td>567738</td>\n",
       "    </tr>\n",
       "    <tr>\n",
       "      <th>3</th>\n",
       "      <td>JANUARY</td>\n",
       "      <td>11</td>\n",
       "      <td>A Dog's Way Home</td>\n",
       "      <td>Columbia Pictures</td>\n",
       "      <td>Charles Martin Smith (director); W. Bruce Came...</td>\n",
       "      <td>[5]</td>\n",
       "      <td>[Drama, Adventure, Family]</td>\n",
       "      <td>[Bryce Dallas Howard, Edward James Olmos, Alex...</td>\n",
       "      <td>508763</td>\n",
       "    </tr>\n",
       "    <tr>\n",
       "      <th>4</th>\n",
       "      <td>JANUARY</td>\n",
       "      <td>11</td>\n",
       "      <td>The Upside</td>\n",
       "      <td>STX Entertainment</td>\n",
       "      <td>Neil Burger (director); Jon Hartmere (screenpl...</td>\n",
       "      <td>[6]</td>\n",
       "      <td>[Comedy, Drama]</td>\n",
       "      <td>[Bryan Cranston, Kevin Hart, Nicole Kidman]</td>\n",
       "      <td>440472</td>\n",
       "    </tr>\n",
       "  </tbody>\n",
       "</table>\n",
       "</div>"
      ],
      "text/plain": [
       "   Opening  Opening.1    original_title           Production company  \\\n",
       "0  JANUARY          4       Escape Room            Columbia Pictures   \n",
       "1  JANUARY          4        Rust Creek                    IFC Films   \n",
       "2  JANUARY          4  American Hangman  Hangman Justice Productions   \n",
       "3  JANUARY         11  A Dog's Way Home            Columbia Pictures   \n",
       "4  JANUARY         11        The Upside            STX Entertainment   \n",
       "\n",
       "                                       Cast and crew Ref.  \\\n",
       "0  Adam Robitel (director); Bragi F. Schut, Maria...  [2]   \n",
       "1  Jen McGowan (director); Julie Lipson (screenpl...  [3]   \n",
       "2  Wilson Coneybeare (director/screenplay); Donal...  [4]   \n",
       "3  Charles Martin Smith (director); W. Bruce Came...  [5]   \n",
       "4  Neil Burger (director); Jon Hartmere (screenpl...  [6]   \n",
       "\n",
       "                                genres  \\\n",
       "0  [Thriller, Action, Mystery, Horror]   \n",
       "1                    [Thriller, Drama]   \n",
       "2                           [Thriller]   \n",
       "3           [Drama, Adventure, Family]   \n",
       "4                      [Comedy, Drama]   \n",
       "\n",
       "                                                cast  movie_id  \n",
       "0   [Taylor Russell, Logan Miller, Deborah Ann Woll]    522681  \n",
       "1     [Hermione Corfield, Jay Paulson, Sean O'Bryan]    561362  \n",
       "2  [Donald Sutherland, Vincent Kartheiser, Oliver...    567738  \n",
       "3  [Bryce Dallas Howard, Edward James Olmos, Alex...    508763  \n",
       "4        [Bryan Cranston, Kevin Hart, Nicole Kidman]    440472  "
      ]
     },
     "execution_count": 28,
     "metadata": {},
     "output_type": "execute_result"
    }
   ],
   "source": [
    "movies_df.head()"
   ]
  },
  {
   "cell_type": "code",
   "execution_count": 29,
   "metadata": {},
   "outputs": [],
   "source": [
    "def get_overview(x):\n",
    "    result = tmdb_movie.search(x)\n",
    "    movie_id = result[0].id\n",
    "    movie_overview = result[0].overview\n",
    "    return movie_overview"
   ]
  },
  {
   "cell_type": "code",
   "execution_count": 30,
   "metadata": {},
   "outputs": [],
   "source": [
    "movies_df['overview'] = movies_df['original_title'].map(lambda x: get_overview(str(x)))"
   ]
  },
  {
   "cell_type": "code",
   "execution_count": 31,
   "metadata": {},
   "outputs": [
    {
     "data": {
      "text/html": [
       "<div>\n",
       "<style scoped>\n",
       "    .dataframe tbody tr th:only-of-type {\n",
       "        vertical-align: middle;\n",
       "    }\n",
       "\n",
       "    .dataframe tbody tr th {\n",
       "        vertical-align: top;\n",
       "    }\n",
       "\n",
       "    .dataframe thead th {\n",
       "        text-align: right;\n",
       "    }\n",
       "</style>\n",
       "<table border=\"1\" class=\"dataframe\">\n",
       "  <thead>\n",
       "    <tr style=\"text-align: right;\">\n",
       "      <th></th>\n",
       "      <th>Opening</th>\n",
       "      <th>Opening.1</th>\n",
       "      <th>original_title</th>\n",
       "      <th>Production company</th>\n",
       "      <th>Cast and crew</th>\n",
       "      <th>Ref.</th>\n",
       "      <th>genres</th>\n",
       "      <th>cast</th>\n",
       "      <th>movie_id</th>\n",
       "      <th>overview</th>\n",
       "    </tr>\n",
       "  </thead>\n",
       "  <tbody>\n",
       "    <tr>\n",
       "      <th>0</th>\n",
       "      <td>JANUARY</td>\n",
       "      <td>4</td>\n",
       "      <td>Escape Room</td>\n",
       "      <td>Columbia Pictures</td>\n",
       "      <td>Adam Robitel (director); Bragi F. Schut, Maria...</td>\n",
       "      <td>[2]</td>\n",
       "      <td>[Thriller, Action, Mystery, Horror]</td>\n",
       "      <td>[Taylor Russell, Logan Miller, Deborah Ann Woll]</td>\n",
       "      <td>522681</td>\n",
       "      <td>Six strangers find themselves in circumstances...</td>\n",
       "    </tr>\n",
       "    <tr>\n",
       "      <th>1</th>\n",
       "      <td>JANUARY</td>\n",
       "      <td>4</td>\n",
       "      <td>Rust Creek</td>\n",
       "      <td>IFC Films</td>\n",
       "      <td>Jen McGowan (director); Julie Lipson (screenpl...</td>\n",
       "      <td>[3]</td>\n",
       "      <td>[Thriller, Drama]</td>\n",
       "      <td>[Hermione Corfield, Jay Paulson, Sean O'Bryan]</td>\n",
       "      <td>561362</td>\n",
       "      <td>When an overachieving college senior makes a w...</td>\n",
       "    </tr>\n",
       "    <tr>\n",
       "      <th>2</th>\n",
       "      <td>JANUARY</td>\n",
       "      <td>4</td>\n",
       "      <td>American Hangman</td>\n",
       "      <td>Hangman Justice Productions</td>\n",
       "      <td>Wilson Coneybeare (director/screenplay); Donal...</td>\n",
       "      <td>[4]</td>\n",
       "      <td>[Thriller]</td>\n",
       "      <td>[Donald Sutherland, Vincent Kartheiser, Oliver...</td>\n",
       "      <td>567738</td>\n",
       "      <td>An unidentified man posts a live feed on socia...</td>\n",
       "    </tr>\n",
       "    <tr>\n",
       "      <th>3</th>\n",
       "      <td>JANUARY</td>\n",
       "      <td>11</td>\n",
       "      <td>A Dog's Way Home</td>\n",
       "      <td>Columbia Pictures</td>\n",
       "      <td>Charles Martin Smith (director); W. Bruce Came...</td>\n",
       "      <td>[5]</td>\n",
       "      <td>[Drama, Adventure, Family]</td>\n",
       "      <td>[Bryce Dallas Howard, Edward James Olmos, Alex...</td>\n",
       "      <td>508763</td>\n",
       "      <td>A Dog’s Way Home chronicles the heartwarming a...</td>\n",
       "    </tr>\n",
       "    <tr>\n",
       "      <th>4</th>\n",
       "      <td>JANUARY</td>\n",
       "      <td>11</td>\n",
       "      <td>The Upside</td>\n",
       "      <td>STX Entertainment</td>\n",
       "      <td>Neil Burger (director); Jon Hartmere (screenpl...</td>\n",
       "      <td>[6]</td>\n",
       "      <td>[Comedy, Drama]</td>\n",
       "      <td>[Bryan Cranston, Kevin Hart, Nicole Kidman]</td>\n",
       "      <td>440472</td>\n",
       "      <td>Phillip is a wealthy quadriplegic who needs a ...</td>\n",
       "    </tr>\n",
       "  </tbody>\n",
       "</table>\n",
       "</div>"
      ],
      "text/plain": [
       "   Opening  Opening.1    original_title           Production company  \\\n",
       "0  JANUARY          4       Escape Room            Columbia Pictures   \n",
       "1  JANUARY          4        Rust Creek                    IFC Films   \n",
       "2  JANUARY          4  American Hangman  Hangman Justice Productions   \n",
       "3  JANUARY         11  A Dog's Way Home            Columbia Pictures   \n",
       "4  JANUARY         11        The Upside            STX Entertainment   \n",
       "\n",
       "                                       Cast and crew Ref.  \\\n",
       "0  Adam Robitel (director); Bragi F. Schut, Maria...  [2]   \n",
       "1  Jen McGowan (director); Julie Lipson (screenpl...  [3]   \n",
       "2  Wilson Coneybeare (director/screenplay); Donal...  [4]   \n",
       "3  Charles Martin Smith (director); W. Bruce Came...  [5]   \n",
       "4  Neil Burger (director); Jon Hartmere (screenpl...  [6]   \n",
       "\n",
       "                                genres  \\\n",
       "0  [Thriller, Action, Mystery, Horror]   \n",
       "1                    [Thriller, Drama]   \n",
       "2                           [Thriller]   \n",
       "3           [Drama, Adventure, Family]   \n",
       "4                      [Comedy, Drama]   \n",
       "\n",
       "                                                cast  movie_id  \\\n",
       "0   [Taylor Russell, Logan Miller, Deborah Ann Woll]    522681   \n",
       "1     [Hermione Corfield, Jay Paulson, Sean O'Bryan]    561362   \n",
       "2  [Donald Sutherland, Vincent Kartheiser, Oliver...    567738   \n",
       "3  [Bryce Dallas Howard, Edward James Olmos, Alex...    508763   \n",
       "4        [Bryan Cranston, Kevin Hart, Nicole Kidman]    440472   \n",
       "\n",
       "                                            overview  \n",
       "0  Six strangers find themselves in circumstances...  \n",
       "1  When an overachieving college senior makes a w...  \n",
       "2  An unidentified man posts a live feed on socia...  \n",
       "3  A Dog’s Way Home chronicles the heartwarming a...  \n",
       "4  Phillip is a wealthy quadriplegic who needs a ...  "
      ]
     },
     "execution_count": 31,
     "metadata": {},
     "output_type": "execute_result"
    }
   ],
   "source": [
    "movies_df.head()"
   ]
  },
  {
   "cell_type": "code",
   "execution_count": 32,
   "metadata": {},
   "outputs": [
    {
     "data": {
      "text/html": [
       "<div>\n",
       "<style scoped>\n",
       "    .dataframe tbody tr th:only-of-type {\n",
       "        vertical-align: middle;\n",
       "    }\n",
       "\n",
       "    .dataframe tbody tr th {\n",
       "        vertical-align: top;\n",
       "    }\n",
       "\n",
       "    .dataframe thead th {\n",
       "        text-align: right;\n",
       "    }\n",
       "</style>\n",
       "<table border=\"1\" class=\"dataframe\">\n",
       "  <thead>\n",
       "    <tr style=\"text-align: right;\">\n",
       "      <th></th>\n",
       "      <th>genres</th>\n",
       "      <th>movie_id</th>\n",
       "      <th>original_title</th>\n",
       "      <th>overview</th>\n",
       "      <th>cast</th>\n",
       "    </tr>\n",
       "  </thead>\n",
       "  <tbody>\n",
       "    <tr>\n",
       "      <th>0</th>\n",
       "      <td>[Thriller, Action, Mystery, Horror]</td>\n",
       "      <td>522681</td>\n",
       "      <td>Escape Room</td>\n",
       "      <td>Six strangers find themselves in circumstances...</td>\n",
       "      <td>[Taylor Russell, Logan Miller, Deborah Ann Woll]</td>\n",
       "    </tr>\n",
       "    <tr>\n",
       "      <th>1</th>\n",
       "      <td>[Thriller, Drama]</td>\n",
       "      <td>561362</td>\n",
       "      <td>Rust Creek</td>\n",
       "      <td>When an overachieving college senior makes a w...</td>\n",
       "      <td>[Hermione Corfield, Jay Paulson, Sean O'Bryan]</td>\n",
       "    </tr>\n",
       "    <tr>\n",
       "      <th>2</th>\n",
       "      <td>[Thriller]</td>\n",
       "      <td>567738</td>\n",
       "      <td>American Hangman</td>\n",
       "      <td>An unidentified man posts a live feed on socia...</td>\n",
       "      <td>[Donald Sutherland, Vincent Kartheiser, Oliver...</td>\n",
       "    </tr>\n",
       "    <tr>\n",
       "      <th>3</th>\n",
       "      <td>[Drama, Adventure, Family]</td>\n",
       "      <td>508763</td>\n",
       "      <td>A Dog's Way Home</td>\n",
       "      <td>A Dog’s Way Home chronicles the heartwarming a...</td>\n",
       "      <td>[Bryce Dallas Howard, Edward James Olmos, Alex...</td>\n",
       "    </tr>\n",
       "    <tr>\n",
       "      <th>4</th>\n",
       "      <td>[Comedy, Drama]</td>\n",
       "      <td>440472</td>\n",
       "      <td>The Upside</td>\n",
       "      <td>Phillip is a wealthy quadriplegic who needs a ...</td>\n",
       "      <td>[Bryan Cranston, Kevin Hart, Nicole Kidman]</td>\n",
       "    </tr>\n",
       "  </tbody>\n",
       "</table>\n",
       "</div>"
      ],
      "text/plain": [
       "                                genres  movie_id    original_title  \\\n",
       "0  [Thriller, Action, Mystery, Horror]    522681       Escape Room   \n",
       "1                    [Thriller, Drama]    561362        Rust Creek   \n",
       "2                           [Thriller]    567738  American Hangman   \n",
       "3           [Drama, Adventure, Family]    508763  A Dog's Way Home   \n",
       "4                      [Comedy, Drama]    440472        The Upside   \n",
       "\n",
       "                                            overview  \\\n",
       "0  Six strangers find themselves in circumstances...   \n",
       "1  When an overachieving college senior makes a w...   \n",
       "2  An unidentified man posts a live feed on socia...   \n",
       "3  A Dog’s Way Home chronicles the heartwarming a...   \n",
       "4  Phillip is a wealthy quadriplegic who needs a ...   \n",
       "\n",
       "                                                cast  \n",
       "0   [Taylor Russell, Logan Miller, Deborah Ann Woll]  \n",
       "1     [Hermione Corfield, Jay Paulson, Sean O'Bryan]  \n",
       "2  [Donald Sutherland, Vincent Kartheiser, Oliver...  \n",
       "3  [Bryce Dallas Howard, Edward James Olmos, Alex...  \n",
       "4        [Bryan Cranston, Kevin Hart, Nicole Kidman]  "
      ]
     },
     "execution_count": 32,
     "metadata": {},
     "output_type": "execute_result"
    }
   ],
   "source": [
    "movies_2019 = movies_df.loc[:, ['genres','movie_id','original_title','overview','cast']]\n",
    "movies_2019.head()"
   ]
  },
  {
   "cell_type": "markdown",
   "metadata": {},
   "source": [
    "### Combining with old dataset"
   ]
  },
  {
   "cell_type": "code",
   "execution_count": 33,
   "metadata": {},
   "outputs": [],
   "source": [
    "old = pd.read_csv(\"new_data18.csv\")"
   ]
  },
  {
   "cell_type": "code",
   "execution_count": 34,
   "metadata": {},
   "outputs": [],
   "source": [
    "new_data = old.append(movies_2019)"
   ]
  },
  {
   "cell_type": "code",
   "execution_count": 35,
   "metadata": {},
   "outputs": [
    {
     "data": {
      "text/plain": [
       "(5799, 5)"
      ]
     },
     "execution_count": 35,
     "metadata": {},
     "output_type": "execute_result"
    }
   ],
   "source": [
    "new_data.shape"
   ]
  },
  {
   "cell_type": "code",
   "execution_count": 36,
   "metadata": {},
   "outputs": [],
   "source": [
    "new_data.drop_duplicates(subset= 'original_title', keep= 'last', inplace= True)"
   ]
  },
  {
   "cell_type": "code",
   "execution_count": 37,
   "metadata": {},
   "outputs": [
    {
     "data": {
      "text/plain": [
       "(5784, 5)"
      ]
     },
     "execution_count": 37,
     "metadata": {},
     "output_type": "execute_result"
    }
   ],
   "source": [
    "new_data.shape"
   ]
  },
  {
   "cell_type": "code",
   "execution_count": 40,
   "metadata": {},
   "outputs": [
    {
     "data": {
      "text/plain": [
       "genres            0\n",
       "movie_id          0\n",
       "original_title    0\n",
       "overview          0\n",
       "cast              0\n",
       "dtype: int64"
      ]
     },
     "execution_count": 40,
     "metadata": {},
     "output_type": "execute_result"
    }
   ],
   "source": [
    "new_data.isnull().sum()"
   ]
  },
  {
   "cell_type": "code",
   "execution_count": 41,
   "metadata": {},
   "outputs": [],
   "source": [
    "new_data.to_csv(\"new_data19.csv\", index= False)"
   ]
  },
  {
   "cell_type": "code",
   "execution_count": null,
   "metadata": {},
   "outputs": [],
   "source": []
  }
 ],
 "metadata": {
  "kernelspec": {
   "display_name": "Python 3",
   "language": "python",
   "name": "python3"
  },
  "language_info": {
   "codemirror_mode": {
    "name": "ipython",
    "version": 3
   },
   "file_extension": ".py",
   "mimetype": "text/x-python",
   "name": "python",
   "nbconvert_exporter": "python",
   "pygments_lexer": "ipython3",
   "version": "3.7.4"
  }
 },
 "nbformat": 4,
 "nbformat_minor": 4
}
