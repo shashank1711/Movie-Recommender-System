{
 "cells": [
  {
   "cell_type": "markdown",
   "metadata": {},
   "source": [
    "### Importing the Libraries"
   ]
  },
  {
   "cell_type": "code",
   "execution_count": 1,
   "metadata": {},
   "outputs": [],
   "source": [
    "import pandas as pd\n",
    "import numpy as np"
   ]
  },
  {
   "cell_type": "markdown",
   "metadata": {},
   "source": [
    "### Extracting the 2020 movies data from the Wikipedia"
   ]
  },
  {
   "cell_type": "code",
   "execution_count": 2,
   "metadata": {},
   "outputs": [],
   "source": [
    "link = 'https://en.wikipedia.org/wiki/List_of_American_films_of_2020'\n",
    "table1 = pd.read_html(link, header= 0)[3]\n",
    "table2 = pd.read_html(link, header= 0)[4]\n",
    "table3 = pd.read_html(link, header= 0)[5]\n",
    "table4 = pd.read_html(link, header= 0)[6]"
   ]
  },
  {
   "cell_type": "code",
   "execution_count": 3,
   "metadata": {},
   "outputs": [],
   "source": [
    "movies_df = table1.append(table2.append(table3.append(table4,ignore_index= True),ignore_index= True),ignore_index= True)"
   ]
  },
  {
   "cell_type": "code",
   "execution_count": 4,
   "metadata": {},
   "outputs": [
    {
     "data": {
      "text/html": [
       "<div>\n",
       "<style scoped>\n",
       "    .dataframe tbody tr th:only-of-type {\n",
       "        vertical-align: middle;\n",
       "    }\n",
       "\n",
       "    .dataframe tbody tr th {\n",
       "        vertical-align: top;\n",
       "    }\n",
       "\n",
       "    .dataframe thead th {\n",
       "        text-align: right;\n",
       "    }\n",
       "</style>\n",
       "<table border=\"1\" class=\"dataframe\">\n",
       "  <thead>\n",
       "    <tr style=\"text-align: right;\">\n",
       "      <th></th>\n",
       "      <th>Opening</th>\n",
       "      <th>Opening.1</th>\n",
       "      <th>Title</th>\n",
       "      <th>Production company</th>\n",
       "      <th>Cast and crew</th>\n",
       "      <th>Ref.</th>\n",
       "    </tr>\n",
       "  </thead>\n",
       "  <tbody>\n",
       "    <tr>\n",
       "      <th>0</th>\n",
       "      <td>JANUARY</td>\n",
       "      <td>3.0</td>\n",
       "      <td>The Grudge</td>\n",
       "      <td>Screen Gems / Stage 6 Films / Ghost House Pict...</td>\n",
       "      <td>Nicolas Pesce (director/screenplay); Andrea Ri...</td>\n",
       "      <td>[2]</td>\n",
       "    </tr>\n",
       "    <tr>\n",
       "      <th>1</th>\n",
       "      <td>JANUARY</td>\n",
       "      <td>10.0</td>\n",
       "      <td>Underwater</td>\n",
       "      <td>20th Century Fox / TSG Entertainment / Chernin...</td>\n",
       "      <td>William Eubank (director); Brian Duffield, Ada...</td>\n",
       "      <td>[3]</td>\n",
       "    </tr>\n",
       "    <tr>\n",
       "      <th>2</th>\n",
       "      <td>JANUARY</td>\n",
       "      <td>10.0</td>\n",
       "      <td>Like a Boss</td>\n",
       "      <td>Paramount Pictures</td>\n",
       "      <td>Miguel Arteta (director); Sam Pitman, Adam Col...</td>\n",
       "      <td>[4]</td>\n",
       "    </tr>\n",
       "    <tr>\n",
       "      <th>3</th>\n",
       "      <td>JANUARY</td>\n",
       "      <td>10.0</td>\n",
       "      <td>Inherit the Viper</td>\n",
       "      <td>Barry Films / Tycor International Film Company</td>\n",
       "      <td>Anthony Jerjen (director); Andrew Crabtree (sc...</td>\n",
       "      <td>[5]</td>\n",
       "    </tr>\n",
       "    <tr>\n",
       "      <th>4</th>\n",
       "      <td>JANUARY</td>\n",
       "      <td>10.0</td>\n",
       "      <td>The Sonata</td>\n",
       "      <td>Screen Media Films</td>\n",
       "      <td>Andrew Desmond (director/screenplay); Arthur M...</td>\n",
       "      <td>[6]</td>\n",
       "    </tr>\n",
       "  </tbody>\n",
       "</table>\n",
       "</div>"
      ],
      "text/plain": [
       "   Opening  Opening.1              Title  \\\n",
       "0  JANUARY        3.0         The Grudge   \n",
       "1  JANUARY       10.0         Underwater   \n",
       "2  JANUARY       10.0        Like a Boss   \n",
       "3  JANUARY       10.0  Inherit the Viper   \n",
       "4  JANUARY       10.0         The Sonata   \n",
       "\n",
       "                                  Production company  \\\n",
       "0  Screen Gems / Stage 6 Films / Ghost House Pict...   \n",
       "1  20th Century Fox / TSG Entertainment / Chernin...   \n",
       "2                                 Paramount Pictures   \n",
       "3     Barry Films / Tycor International Film Company   \n",
       "4                                 Screen Media Films   \n",
       "\n",
       "                                       Cast and crew Ref.  \n",
       "0  Nicolas Pesce (director/screenplay); Andrea Ri...  [2]  \n",
       "1  William Eubank (director); Brian Duffield, Ada...  [3]  \n",
       "2  Miguel Arteta (director); Sam Pitman, Adam Col...  [4]  \n",
       "3  Anthony Jerjen (director); Andrew Crabtree (sc...  [5]  \n",
       "4  Andrew Desmond (director/screenplay); Arthur M...  [6]  "
      ]
     },
     "execution_count": 4,
     "metadata": {},
     "output_type": "execute_result"
    }
   ],
   "source": [
    "movies_df.head()"
   ]
  },
  {
   "cell_type": "code",
   "execution_count": 5,
   "metadata": {},
   "outputs": [
    {
     "data": {
      "text/plain": [
       "(201, 6)"
      ]
     },
     "execution_count": 5,
     "metadata": {},
     "output_type": "execute_result"
    }
   ],
   "source": [
    "movies_df.shape"
   ]
  },
  {
   "cell_type": "code",
   "execution_count": 6,
   "metadata": {},
   "outputs": [],
   "source": [
    "# Getting genre column from TMDB\n",
    "from tmdbv3api import TMDb\n",
    "tmdb = TMDb()\n",
    "tmdb.api_key = ''"
   ]
  },
  {
   "cell_type": "code",
   "execution_count": 7,
   "metadata": {},
   "outputs": [],
   "source": [
    "from tmdbv3api import Movie\n",
    "import requests\n",
    "import json\n",
    "tmdb_movie = Movie()"
   ]
  },
  {
   "cell_type": "code",
   "execution_count": 8,
   "metadata": {},
   "outputs": [],
   "source": [
    "def get_genre(x):\n",
    "    genres = []\n",
    "    result = tmdb_movie.search(x)\n",
    "    movie_id = result[0].id\n",
    "    response = requests.get('https://api.themoviedb.org/3/movie/{}?api_key={}' .format(movie_id, tmdb.api_key))\n",
    "    data = response.json()\n",
    "    if data['genres']:\n",
    "        genre_names = ' '\n",
    "        for i in range(len(data['genres'])):\n",
    "            genres.append(data['genres'][i]['name'])\n",
    "        return genre_names.join(genres)\n",
    "    else:\n",
    "        np.NaN"
   ]
  },
  {
   "cell_type": "code",
   "execution_count": 9,
   "metadata": {},
   "outputs": [],
   "source": [
    "movies_df['genres'] = movies_df['Title'].map(lambda x: get_genre(str(x)))"
   ]
  },
  {
   "cell_type": "code",
   "execution_count": 10,
   "metadata": {},
   "outputs": [
    {
     "data": {
      "text/html": [
       "<div>\n",
       "<style scoped>\n",
       "    .dataframe tbody tr th:only-of-type {\n",
       "        vertical-align: middle;\n",
       "    }\n",
       "\n",
       "    .dataframe tbody tr th {\n",
       "        vertical-align: top;\n",
       "    }\n",
       "\n",
       "    .dataframe thead th {\n",
       "        text-align: right;\n",
       "    }\n",
       "</style>\n",
       "<table border=\"1\" class=\"dataframe\">\n",
       "  <thead>\n",
       "    <tr style=\"text-align: right;\">\n",
       "      <th></th>\n",
       "      <th>Opening</th>\n",
       "      <th>Opening.1</th>\n",
       "      <th>Title</th>\n",
       "      <th>Production company</th>\n",
       "      <th>Cast and crew</th>\n",
       "      <th>Ref.</th>\n",
       "      <th>genres</th>\n",
       "    </tr>\n",
       "  </thead>\n",
       "  <tbody>\n",
       "    <tr>\n",
       "      <th>0</th>\n",
       "      <td>JANUARY</td>\n",
       "      <td>3.0</td>\n",
       "      <td>The Grudge</td>\n",
       "      <td>Screen Gems / Stage 6 Films / Ghost House Pict...</td>\n",
       "      <td>Nicolas Pesce (director/screenplay); Andrea Ri...</td>\n",
       "      <td>[2]</td>\n",
       "      <td>Horror Mystery</td>\n",
       "    </tr>\n",
       "    <tr>\n",
       "      <th>1</th>\n",
       "      <td>JANUARY</td>\n",
       "      <td>10.0</td>\n",
       "      <td>Underwater</td>\n",
       "      <td>20th Century Fox / TSG Entertainment / Chernin...</td>\n",
       "      <td>William Eubank (director); Brian Duffield, Ada...</td>\n",
       "      <td>[3]</td>\n",
       "      <td>Action Horror Science Fiction Thriller</td>\n",
       "    </tr>\n",
       "    <tr>\n",
       "      <th>2</th>\n",
       "      <td>JANUARY</td>\n",
       "      <td>10.0</td>\n",
       "      <td>Like a Boss</td>\n",
       "      <td>Paramount Pictures</td>\n",
       "      <td>Miguel Arteta (director); Sam Pitman, Adam Col...</td>\n",
       "      <td>[4]</td>\n",
       "      <td>Comedy</td>\n",
       "    </tr>\n",
       "    <tr>\n",
       "      <th>3</th>\n",
       "      <td>JANUARY</td>\n",
       "      <td>10.0</td>\n",
       "      <td>Inherit the Viper</td>\n",
       "      <td>Barry Films / Tycor International Film Company</td>\n",
       "      <td>Anthony Jerjen (director); Andrew Crabtree (sc...</td>\n",
       "      <td>[5]</td>\n",
       "      <td>Drama Thriller Crime</td>\n",
       "    </tr>\n",
       "    <tr>\n",
       "      <th>4</th>\n",
       "      <td>JANUARY</td>\n",
       "      <td>10.0</td>\n",
       "      <td>The Sonata</td>\n",
       "      <td>Screen Media Films</td>\n",
       "      <td>Andrew Desmond (director/screenplay); Arthur M...</td>\n",
       "      <td>[6]</td>\n",
       "      <td>Horror Thriller Mystery</td>\n",
       "    </tr>\n",
       "  </tbody>\n",
       "</table>\n",
       "</div>"
      ],
      "text/plain": [
       "   Opening  Opening.1              Title  \\\n",
       "0  JANUARY        3.0         The Grudge   \n",
       "1  JANUARY       10.0         Underwater   \n",
       "2  JANUARY       10.0        Like a Boss   \n",
       "3  JANUARY       10.0  Inherit the Viper   \n",
       "4  JANUARY       10.0         The Sonata   \n",
       "\n",
       "                                  Production company  \\\n",
       "0  Screen Gems / Stage 6 Films / Ghost House Pict...   \n",
       "1  20th Century Fox / TSG Entertainment / Chernin...   \n",
       "2                                 Paramount Pictures   \n",
       "3     Barry Films / Tycor International Film Company   \n",
       "4                                 Screen Media Films   \n",
       "\n",
       "                                       Cast and crew Ref.  \\\n",
       "0  Nicolas Pesce (director/screenplay); Andrea Ri...  [2]   \n",
       "1  William Eubank (director); Brian Duffield, Ada...  [3]   \n",
       "2  Miguel Arteta (director); Sam Pitman, Adam Col...  [4]   \n",
       "3  Anthony Jerjen (director); Andrew Crabtree (sc...  [5]   \n",
       "4  Andrew Desmond (director/screenplay); Arthur M...  [6]   \n",
       "\n",
       "                                   genres  \n",
       "0                          Horror Mystery  \n",
       "1  Action Horror Science Fiction Thriller  \n",
       "2                                  Comedy  \n",
       "3                    Drama Thriller Crime  \n",
       "4                 Horror Thriller Mystery  "
      ]
     },
     "execution_count": 10,
     "metadata": {},
     "output_type": "execute_result"
    }
   ],
   "source": [
    "movies_df.head()"
   ]
  },
  {
   "cell_type": "code",
   "execution_count": 11,
   "metadata": {},
   "outputs": [
    {
     "data": {
      "text/plain": [
       "Opening               0\n",
       "Opening.1             2\n",
       "Title                 2\n",
       "Production company    2\n",
       "Cast and crew         2\n",
       "Ref.                  9\n",
       "genres                3\n",
       "dtype: int64"
      ]
     },
     "execution_count": 11,
     "metadata": {},
     "output_type": "execute_result"
    }
   ],
   "source": [
    "movies_df.isnull().sum()"
   ]
  },
  {
   "cell_type": "code",
   "execution_count": 12,
   "metadata": {},
   "outputs": [],
   "source": [
    "movies_df = movies_df.dropna()"
   ]
  },
  {
   "cell_type": "code",
   "execution_count": 13,
   "metadata": {},
   "outputs": [
    {
     "data": {
      "text/plain": [
       "Opening               0\n",
       "Opening.1             0\n",
       "Title                 0\n",
       "Production company    0\n",
       "Cast and crew         0\n",
       "Ref.                  0\n",
       "genres                0\n",
       "dtype: int64"
      ]
     },
     "execution_count": 13,
     "metadata": {},
     "output_type": "execute_result"
    }
   ],
   "source": [
    "movies_df.isnull().sum()"
   ]
  },
  {
   "cell_type": "code",
   "execution_count": 14,
   "metadata": {},
   "outputs": [
    {
     "name": "stdout",
     "output_type": "stream",
     "text": [
      "<class 'str'>\n"
     ]
    }
   ],
   "source": [
    "print(type(movies_df.loc[0, 'genres']))"
   ]
  },
  {
   "cell_type": "code",
   "execution_count": 15,
   "metadata": {},
   "outputs": [],
   "source": [
    "# Converting string to list in genres column\n",
    "def convert(string):\n",
    "    li = list(string.split(\" \")) \n",
    "    return li"
   ]
  },
  {
   "cell_type": "code",
   "execution_count": 16,
   "metadata": {},
   "outputs": [],
   "source": [
    "movies_df['genres'] = movies_df['genres'].map(lambda x: convert(x))"
   ]
  },
  {
   "cell_type": "code",
   "execution_count": 17,
   "metadata": {},
   "outputs": [
    {
     "data": {
      "text/html": [
       "<div>\n",
       "<style scoped>\n",
       "    .dataframe tbody tr th:only-of-type {\n",
       "        vertical-align: middle;\n",
       "    }\n",
       "\n",
       "    .dataframe tbody tr th {\n",
       "        vertical-align: top;\n",
       "    }\n",
       "\n",
       "    .dataframe thead th {\n",
       "        text-align: right;\n",
       "    }\n",
       "</style>\n",
       "<table border=\"1\" class=\"dataframe\">\n",
       "  <thead>\n",
       "    <tr style=\"text-align: right;\">\n",
       "      <th></th>\n",
       "      <th>Opening</th>\n",
       "      <th>Opening.1</th>\n",
       "      <th>Title</th>\n",
       "      <th>Production company</th>\n",
       "      <th>Cast and crew</th>\n",
       "      <th>Ref.</th>\n",
       "      <th>genres</th>\n",
       "    </tr>\n",
       "  </thead>\n",
       "  <tbody>\n",
       "    <tr>\n",
       "      <th>0</th>\n",
       "      <td>JANUARY</td>\n",
       "      <td>3.0</td>\n",
       "      <td>The Grudge</td>\n",
       "      <td>Screen Gems / Stage 6 Films / Ghost House Pict...</td>\n",
       "      <td>Nicolas Pesce (director/screenplay); Andrea Ri...</td>\n",
       "      <td>[2]</td>\n",
       "      <td>[Horror, Mystery]</td>\n",
       "    </tr>\n",
       "    <tr>\n",
       "      <th>1</th>\n",
       "      <td>JANUARY</td>\n",
       "      <td>10.0</td>\n",
       "      <td>Underwater</td>\n",
       "      <td>20th Century Fox / TSG Entertainment / Chernin...</td>\n",
       "      <td>William Eubank (director); Brian Duffield, Ada...</td>\n",
       "      <td>[3]</td>\n",
       "      <td>[Action, Horror, Science, Fiction, Thriller]</td>\n",
       "    </tr>\n",
       "    <tr>\n",
       "      <th>2</th>\n",
       "      <td>JANUARY</td>\n",
       "      <td>10.0</td>\n",
       "      <td>Like a Boss</td>\n",
       "      <td>Paramount Pictures</td>\n",
       "      <td>Miguel Arteta (director); Sam Pitman, Adam Col...</td>\n",
       "      <td>[4]</td>\n",
       "      <td>[Comedy]</td>\n",
       "    </tr>\n",
       "    <tr>\n",
       "      <th>3</th>\n",
       "      <td>JANUARY</td>\n",
       "      <td>10.0</td>\n",
       "      <td>Inherit the Viper</td>\n",
       "      <td>Barry Films / Tycor International Film Company</td>\n",
       "      <td>Anthony Jerjen (director); Andrew Crabtree (sc...</td>\n",
       "      <td>[5]</td>\n",
       "      <td>[Drama, Thriller, Crime]</td>\n",
       "    </tr>\n",
       "    <tr>\n",
       "      <th>4</th>\n",
       "      <td>JANUARY</td>\n",
       "      <td>10.0</td>\n",
       "      <td>The Sonata</td>\n",
       "      <td>Screen Media Films</td>\n",
       "      <td>Andrew Desmond (director/screenplay); Arthur M...</td>\n",
       "      <td>[6]</td>\n",
       "      <td>[Horror, Thriller, Mystery]</td>\n",
       "    </tr>\n",
       "  </tbody>\n",
       "</table>\n",
       "</div>"
      ],
      "text/plain": [
       "   Opening  Opening.1              Title  \\\n",
       "0  JANUARY        3.0         The Grudge   \n",
       "1  JANUARY       10.0         Underwater   \n",
       "2  JANUARY       10.0        Like a Boss   \n",
       "3  JANUARY       10.0  Inherit the Viper   \n",
       "4  JANUARY       10.0         The Sonata   \n",
       "\n",
       "                                  Production company  \\\n",
       "0  Screen Gems / Stage 6 Films / Ghost House Pict...   \n",
       "1  20th Century Fox / TSG Entertainment / Chernin...   \n",
       "2                                 Paramount Pictures   \n",
       "3     Barry Films / Tycor International Film Company   \n",
       "4                                 Screen Media Films   \n",
       "\n",
       "                                       Cast and crew Ref.  \\\n",
       "0  Nicolas Pesce (director/screenplay); Andrea Ri...  [2]   \n",
       "1  William Eubank (director); Brian Duffield, Ada...  [3]   \n",
       "2  Miguel Arteta (director); Sam Pitman, Adam Col...  [4]   \n",
       "3  Anthony Jerjen (director); Andrew Crabtree (sc...  [5]   \n",
       "4  Andrew Desmond (director/screenplay); Arthur M...  [6]   \n",
       "\n",
       "                                         genres  \n",
       "0                             [Horror, Mystery]  \n",
       "1  [Action, Horror, Science, Fiction, Thriller]  \n",
       "2                                      [Comedy]  \n",
       "3                      [Drama, Thriller, Crime]  \n",
       "4                   [Horror, Thriller, Mystery]  "
      ]
     },
     "execution_count": 17,
     "metadata": {},
     "output_type": "execute_result"
    }
   ],
   "source": [
    "movies_df.head()"
   ]
  },
  {
   "cell_type": "code",
   "execution_count": 18,
   "metadata": {},
   "outputs": [
    {
     "data": {
      "text/plain": [
       "['Horror', 'Mystery']"
      ]
     },
     "execution_count": 18,
     "metadata": {},
     "output_type": "execute_result"
    }
   ],
   "source": [
    "movies_df.loc[0, 'genres']"
   ]
  },
  {
   "cell_type": "code",
   "execution_count": 19,
   "metadata": {},
   "outputs": [
    {
     "data": {
      "text/plain": [
       "'Nicolas Pesce (director/screenplay); Andrea Riseborough, Demián Bichir, John Cho, Betty Gilpin, Lin Shaye, Jacki Weaver'"
      ]
     },
     "execution_count": 19,
     "metadata": {},
     "output_type": "execute_result"
    }
   ],
   "source": [
    "movies_df.loc[0, 'Cast and crew']"
   ]
  },
  {
   "cell_type": "code",
   "execution_count": 20,
   "metadata": {},
   "outputs": [],
   "source": [
    "# Getting the cast of the movie\n",
    "def get_cast(x):\n",
    "    return ((x.split(\"screenplay); \")[-1]).split(\", \")[0:3])"
   ]
  },
  {
   "cell_type": "code",
   "execution_count": 21,
   "metadata": {},
   "outputs": [],
   "source": [
    "movies_df['cast'] = movies_df['Cast and crew'].map(lambda x: get_cast(x))"
   ]
  },
  {
   "cell_type": "code",
   "execution_count": 22,
   "metadata": {},
   "outputs": [
    {
     "data": {
      "text/html": [
       "<div>\n",
       "<style scoped>\n",
       "    .dataframe tbody tr th:only-of-type {\n",
       "        vertical-align: middle;\n",
       "    }\n",
       "\n",
       "    .dataframe tbody tr th {\n",
       "        vertical-align: top;\n",
       "    }\n",
       "\n",
       "    .dataframe thead th {\n",
       "        text-align: right;\n",
       "    }\n",
       "</style>\n",
       "<table border=\"1\" class=\"dataframe\">\n",
       "  <thead>\n",
       "    <tr style=\"text-align: right;\">\n",
       "      <th></th>\n",
       "      <th>Opening</th>\n",
       "      <th>Opening.1</th>\n",
       "      <th>Title</th>\n",
       "      <th>Production company</th>\n",
       "      <th>Cast and crew</th>\n",
       "      <th>Ref.</th>\n",
       "      <th>genres</th>\n",
       "      <th>cast</th>\n",
       "    </tr>\n",
       "  </thead>\n",
       "  <tbody>\n",
       "    <tr>\n",
       "      <th>0</th>\n",
       "      <td>JANUARY</td>\n",
       "      <td>3.0</td>\n",
       "      <td>The Grudge</td>\n",
       "      <td>Screen Gems / Stage 6 Films / Ghost House Pict...</td>\n",
       "      <td>Nicolas Pesce (director/screenplay); Andrea Ri...</td>\n",
       "      <td>[2]</td>\n",
       "      <td>[Horror, Mystery]</td>\n",
       "      <td>[Andrea Riseborough, Demián Bichir, John Cho]</td>\n",
       "    </tr>\n",
       "    <tr>\n",
       "      <th>1</th>\n",
       "      <td>JANUARY</td>\n",
       "      <td>10.0</td>\n",
       "      <td>Underwater</td>\n",
       "      <td>20th Century Fox / TSG Entertainment / Chernin...</td>\n",
       "      <td>William Eubank (director); Brian Duffield, Ada...</td>\n",
       "      <td>[3]</td>\n",
       "      <td>[Action, Horror, Science, Fiction, Thriller]</td>\n",
       "      <td>[Kristen Stewart, Vincent Cassel, Jessica Henw...</td>\n",
       "    </tr>\n",
       "    <tr>\n",
       "      <th>2</th>\n",
       "      <td>JANUARY</td>\n",
       "      <td>10.0</td>\n",
       "      <td>Like a Boss</td>\n",
       "      <td>Paramount Pictures</td>\n",
       "      <td>Miguel Arteta (director); Sam Pitman, Adam Col...</td>\n",
       "      <td>[4]</td>\n",
       "      <td>[Comedy]</td>\n",
       "      <td>[Tiffany Haddish, Rose Byrne, Salma Hayek]</td>\n",
       "    </tr>\n",
       "    <tr>\n",
       "      <th>3</th>\n",
       "      <td>JANUARY</td>\n",
       "      <td>10.0</td>\n",
       "      <td>Inherit the Viper</td>\n",
       "      <td>Barry Films / Tycor International Film Company</td>\n",
       "      <td>Anthony Jerjen (director); Andrew Crabtree (sc...</td>\n",
       "      <td>[5]</td>\n",
       "      <td>[Drama, Thriller, Crime]</td>\n",
       "      <td>[Josh Hartnett, Margarita Levieva, Chandler Ri...</td>\n",
       "    </tr>\n",
       "    <tr>\n",
       "      <th>4</th>\n",
       "      <td>JANUARY</td>\n",
       "      <td>10.0</td>\n",
       "      <td>The Sonata</td>\n",
       "      <td>Screen Media Films</td>\n",
       "      <td>Andrew Desmond (director/screenplay); Arthur M...</td>\n",
       "      <td>[6]</td>\n",
       "      <td>[Horror, Thriller, Mystery]</td>\n",
       "      <td>[Freya Tingley, Simon Abkarian, Rutger Hauer]</td>\n",
       "    </tr>\n",
       "  </tbody>\n",
       "</table>\n",
       "</div>"
      ],
      "text/plain": [
       "   Opening  Opening.1              Title  \\\n",
       "0  JANUARY        3.0         The Grudge   \n",
       "1  JANUARY       10.0         Underwater   \n",
       "2  JANUARY       10.0        Like a Boss   \n",
       "3  JANUARY       10.0  Inherit the Viper   \n",
       "4  JANUARY       10.0         The Sonata   \n",
       "\n",
       "                                  Production company  \\\n",
       "0  Screen Gems / Stage 6 Films / Ghost House Pict...   \n",
       "1  20th Century Fox / TSG Entertainment / Chernin...   \n",
       "2                                 Paramount Pictures   \n",
       "3     Barry Films / Tycor International Film Company   \n",
       "4                                 Screen Media Films   \n",
       "\n",
       "                                       Cast and crew Ref.  \\\n",
       "0  Nicolas Pesce (director/screenplay); Andrea Ri...  [2]   \n",
       "1  William Eubank (director); Brian Duffield, Ada...  [3]   \n",
       "2  Miguel Arteta (director); Sam Pitman, Adam Col...  [4]   \n",
       "3  Anthony Jerjen (director); Andrew Crabtree (sc...  [5]   \n",
       "4  Andrew Desmond (director/screenplay); Arthur M...  [6]   \n",
       "\n",
       "                                         genres  \\\n",
       "0                             [Horror, Mystery]   \n",
       "1  [Action, Horror, Science, Fiction, Thriller]   \n",
       "2                                      [Comedy]   \n",
       "3                      [Drama, Thriller, Crime]   \n",
       "4                   [Horror, Thriller, Mystery]   \n",
       "\n",
       "                                                cast  \n",
       "0      [Andrea Riseborough, Demián Bichir, John Cho]  \n",
       "1  [Kristen Stewart, Vincent Cassel, Jessica Henw...  \n",
       "2         [Tiffany Haddish, Rose Byrne, Salma Hayek]  \n",
       "3  [Josh Hartnett, Margarita Levieva, Chandler Ri...  \n",
       "4      [Freya Tingley, Simon Abkarian, Rutger Hauer]  "
      ]
     },
     "execution_count": 22,
     "metadata": {},
     "output_type": "execute_result"
    }
   ],
   "source": [
    "movies_df.head()"
   ]
  },
  {
   "cell_type": "code",
   "execution_count": 23,
   "metadata": {},
   "outputs": [
    {
     "data": {
      "text/plain": [
       "['Winslow Fegley', 'Ophelia Lovibond', 'Craig Robinson']"
      ]
     },
     "execution_count": 23,
     "metadata": {},
     "output_type": "execute_result"
    }
   ],
   "source": [
    "movies_df.loc[18, 'cast']"
   ]
  },
  {
   "cell_type": "code",
   "execution_count": 24,
   "metadata": {},
   "outputs": [
    {
     "data": {
      "text/plain": [
       "Index(['Opening', 'Opening.1', 'Title', 'Production company', 'Cast and crew',\n",
       "       'Ref.', 'genres', 'cast'],\n",
       "      dtype='object')"
      ]
     },
     "execution_count": 24,
     "metadata": {},
     "output_type": "execute_result"
    }
   ],
   "source": [
    "movies_df.columns"
   ]
  },
  {
   "cell_type": "code",
   "execution_count": 25,
   "metadata": {},
   "outputs": [],
   "source": [
    "movies_df = movies_df.rename(columns= {'Title': 'original_title'})"
   ]
  },
  {
   "cell_type": "code",
   "execution_count": 26,
   "metadata": {},
   "outputs": [],
   "source": [
    "# Getting the movie id from TMDB api\n",
    "def get_id(x):\n",
    "    result = tmdb_movie.search(x)\n",
    "    movie_id = result[0].id\n",
    "    return movie_id"
   ]
  },
  {
   "cell_type": "code",
   "execution_count": 27,
   "metadata": {},
   "outputs": [],
   "source": [
    "movies_df['movie_id'] = movies_df['original_title'].map(lambda x: get_id(str(x)))"
   ]
  },
  {
   "cell_type": "code",
   "execution_count": 28,
   "metadata": {},
   "outputs": [
    {
     "data": {
      "text/html": [
       "<div>\n",
       "<style scoped>\n",
       "    .dataframe tbody tr th:only-of-type {\n",
       "        vertical-align: middle;\n",
       "    }\n",
       "\n",
       "    .dataframe tbody tr th {\n",
       "        vertical-align: top;\n",
       "    }\n",
       "\n",
       "    .dataframe thead th {\n",
       "        text-align: right;\n",
       "    }\n",
       "</style>\n",
       "<table border=\"1\" class=\"dataframe\">\n",
       "  <thead>\n",
       "    <tr style=\"text-align: right;\">\n",
       "      <th></th>\n",
       "      <th>Opening</th>\n",
       "      <th>Opening.1</th>\n",
       "      <th>original_title</th>\n",
       "      <th>Production company</th>\n",
       "      <th>Cast and crew</th>\n",
       "      <th>Ref.</th>\n",
       "      <th>genres</th>\n",
       "      <th>cast</th>\n",
       "      <th>movie_id</th>\n",
       "    </tr>\n",
       "  </thead>\n",
       "  <tbody>\n",
       "    <tr>\n",
       "      <th>0</th>\n",
       "      <td>JANUARY</td>\n",
       "      <td>3.0</td>\n",
       "      <td>The Grudge</td>\n",
       "      <td>Screen Gems / Stage 6 Films / Ghost House Pict...</td>\n",
       "      <td>Nicolas Pesce (director/screenplay); Andrea Ri...</td>\n",
       "      <td>[2]</td>\n",
       "      <td>[Horror, Mystery]</td>\n",
       "      <td>[Andrea Riseborough, Demián Bichir, John Cho]</td>\n",
       "      <td>465086</td>\n",
       "    </tr>\n",
       "    <tr>\n",
       "      <th>1</th>\n",
       "      <td>JANUARY</td>\n",
       "      <td>10.0</td>\n",
       "      <td>Underwater</td>\n",
       "      <td>20th Century Fox / TSG Entertainment / Chernin...</td>\n",
       "      <td>William Eubank (director); Brian Duffield, Ada...</td>\n",
       "      <td>[3]</td>\n",
       "      <td>[Action, Horror, Science, Fiction, Thriller]</td>\n",
       "      <td>[Kristen Stewart, Vincent Cassel, Jessica Henw...</td>\n",
       "      <td>443791</td>\n",
       "    </tr>\n",
       "    <tr>\n",
       "      <th>2</th>\n",
       "      <td>JANUARY</td>\n",
       "      <td>10.0</td>\n",
       "      <td>Like a Boss</td>\n",
       "      <td>Paramount Pictures</td>\n",
       "      <td>Miguel Arteta (director); Sam Pitman, Adam Col...</td>\n",
       "      <td>[4]</td>\n",
       "      <td>[Comedy]</td>\n",
       "      <td>[Tiffany Haddish, Rose Byrne, Salma Hayek]</td>\n",
       "      <td>526019</td>\n",
       "    </tr>\n",
       "    <tr>\n",
       "      <th>3</th>\n",
       "      <td>JANUARY</td>\n",
       "      <td>10.0</td>\n",
       "      <td>Inherit the Viper</td>\n",
       "      <td>Barry Films / Tycor International Film Company</td>\n",
       "      <td>Anthony Jerjen (director); Andrew Crabtree (sc...</td>\n",
       "      <td>[5]</td>\n",
       "      <td>[Drama, Thriller, Crime]</td>\n",
       "      <td>[Josh Hartnett, Margarita Levieva, Chandler Ri...</td>\n",
       "      <td>634904</td>\n",
       "    </tr>\n",
       "    <tr>\n",
       "      <th>4</th>\n",
       "      <td>JANUARY</td>\n",
       "      <td>10.0</td>\n",
       "      <td>The Sonata</td>\n",
       "      <td>Screen Media Films</td>\n",
       "      <td>Andrew Desmond (director/screenplay); Arthur M...</td>\n",
       "      <td>[6]</td>\n",
       "      <td>[Horror, Thriller, Mystery]</td>\n",
       "      <td>[Freya Tingley, Simon Abkarian, Rutger Hauer]</td>\n",
       "      <td>477036</td>\n",
       "    </tr>\n",
       "  </tbody>\n",
       "</table>\n",
       "</div>"
      ],
      "text/plain": [
       "   Opening  Opening.1     original_title  \\\n",
       "0  JANUARY        3.0         The Grudge   \n",
       "1  JANUARY       10.0         Underwater   \n",
       "2  JANUARY       10.0        Like a Boss   \n",
       "3  JANUARY       10.0  Inherit the Viper   \n",
       "4  JANUARY       10.0         The Sonata   \n",
       "\n",
       "                                  Production company  \\\n",
       "0  Screen Gems / Stage 6 Films / Ghost House Pict...   \n",
       "1  20th Century Fox / TSG Entertainment / Chernin...   \n",
       "2                                 Paramount Pictures   \n",
       "3     Barry Films / Tycor International Film Company   \n",
       "4                                 Screen Media Films   \n",
       "\n",
       "                                       Cast and crew Ref.  \\\n",
       "0  Nicolas Pesce (director/screenplay); Andrea Ri...  [2]   \n",
       "1  William Eubank (director); Brian Duffield, Ada...  [3]   \n",
       "2  Miguel Arteta (director); Sam Pitman, Adam Col...  [4]   \n",
       "3  Anthony Jerjen (director); Andrew Crabtree (sc...  [5]   \n",
       "4  Andrew Desmond (director/screenplay); Arthur M...  [6]   \n",
       "\n",
       "                                         genres  \\\n",
       "0                             [Horror, Mystery]   \n",
       "1  [Action, Horror, Science, Fiction, Thriller]   \n",
       "2                                      [Comedy]   \n",
       "3                      [Drama, Thriller, Crime]   \n",
       "4                   [Horror, Thriller, Mystery]   \n",
       "\n",
       "                                                cast  movie_id  \n",
       "0      [Andrea Riseborough, Demián Bichir, John Cho]    465086  \n",
       "1  [Kristen Stewart, Vincent Cassel, Jessica Henw...    443791  \n",
       "2         [Tiffany Haddish, Rose Byrne, Salma Hayek]    526019  \n",
       "3  [Josh Hartnett, Margarita Levieva, Chandler Ri...    634904  \n",
       "4      [Freya Tingley, Simon Abkarian, Rutger Hauer]    477036  "
      ]
     },
     "execution_count": 28,
     "metadata": {},
     "output_type": "execute_result"
    }
   ],
   "source": [
    "movies_df.head()"
   ]
  },
  {
   "cell_type": "code",
   "execution_count": 29,
   "metadata": {},
   "outputs": [],
   "source": [
    "def get_overview(x):\n",
    "    result = tmdb_movie.search(x)\n",
    "    movie_id = result[0].id\n",
    "    movie_overview = result[0].overview\n",
    "    return movie_overview"
   ]
  },
  {
   "cell_type": "code",
   "execution_count": 30,
   "metadata": {},
   "outputs": [],
   "source": [
    "movies_df['overview'] = movies_df['original_title'].map(lambda x: get_overview(str(x)))"
   ]
  },
  {
   "cell_type": "code",
   "execution_count": 31,
   "metadata": {},
   "outputs": [
    {
     "data": {
      "text/html": [
       "<div>\n",
       "<style scoped>\n",
       "    .dataframe tbody tr th:only-of-type {\n",
       "        vertical-align: middle;\n",
       "    }\n",
       "\n",
       "    .dataframe tbody tr th {\n",
       "        vertical-align: top;\n",
       "    }\n",
       "\n",
       "    .dataframe thead th {\n",
       "        text-align: right;\n",
       "    }\n",
       "</style>\n",
       "<table border=\"1\" class=\"dataframe\">\n",
       "  <thead>\n",
       "    <tr style=\"text-align: right;\">\n",
       "      <th></th>\n",
       "      <th>Opening</th>\n",
       "      <th>Opening.1</th>\n",
       "      <th>original_title</th>\n",
       "      <th>Production company</th>\n",
       "      <th>Cast and crew</th>\n",
       "      <th>Ref.</th>\n",
       "      <th>genres</th>\n",
       "      <th>cast</th>\n",
       "      <th>movie_id</th>\n",
       "      <th>overview</th>\n",
       "    </tr>\n",
       "  </thead>\n",
       "  <tbody>\n",
       "    <tr>\n",
       "      <th>0</th>\n",
       "      <td>JANUARY</td>\n",
       "      <td>3.0</td>\n",
       "      <td>The Grudge</td>\n",
       "      <td>Screen Gems / Stage 6 Films / Ghost House Pict...</td>\n",
       "      <td>Nicolas Pesce (director/screenplay); Andrea Ri...</td>\n",
       "      <td>[2]</td>\n",
       "      <td>[Horror, Mystery]</td>\n",
       "      <td>[Andrea Riseborough, Demián Bichir, John Cho]</td>\n",
       "      <td>465086</td>\n",
       "      <td>After a young mother murders her family in her...</td>\n",
       "    </tr>\n",
       "    <tr>\n",
       "      <th>1</th>\n",
       "      <td>JANUARY</td>\n",
       "      <td>10.0</td>\n",
       "      <td>Underwater</td>\n",
       "      <td>20th Century Fox / TSG Entertainment / Chernin...</td>\n",
       "      <td>William Eubank (director); Brian Duffield, Ada...</td>\n",
       "      <td>[3]</td>\n",
       "      <td>[Action, Horror, Science, Fiction, Thriller]</td>\n",
       "      <td>[Kristen Stewart, Vincent Cassel, Jessica Henw...</td>\n",
       "      <td>443791</td>\n",
       "      <td>After an earthquake destroys their underwater ...</td>\n",
       "    </tr>\n",
       "    <tr>\n",
       "      <th>2</th>\n",
       "      <td>JANUARY</td>\n",
       "      <td>10.0</td>\n",
       "      <td>Like a Boss</td>\n",
       "      <td>Paramount Pictures</td>\n",
       "      <td>Miguel Arteta (director); Sam Pitman, Adam Col...</td>\n",
       "      <td>[4]</td>\n",
       "      <td>[Comedy]</td>\n",
       "      <td>[Tiffany Haddish, Rose Byrne, Salma Hayek]</td>\n",
       "      <td>526019</td>\n",
       "      <td>Two female friends with very different ideals ...</td>\n",
       "    </tr>\n",
       "    <tr>\n",
       "      <th>3</th>\n",
       "      <td>JANUARY</td>\n",
       "      <td>10.0</td>\n",
       "      <td>Inherit the Viper</td>\n",
       "      <td>Barry Films / Tycor International Film Company</td>\n",
       "      <td>Anthony Jerjen (director); Andrew Crabtree (sc...</td>\n",
       "      <td>[5]</td>\n",
       "      <td>[Drama, Thriller, Crime]</td>\n",
       "      <td>[Josh Hartnett, Margarita Levieva, Chandler Ri...</td>\n",
       "      <td>634904</td>\n",
       "      <td>Since the death of their father, the Riley sib...</td>\n",
       "    </tr>\n",
       "    <tr>\n",
       "      <th>4</th>\n",
       "      <td>JANUARY</td>\n",
       "      <td>10.0</td>\n",
       "      <td>The Sonata</td>\n",
       "      <td>Screen Media Films</td>\n",
       "      <td>Andrew Desmond (director/screenplay); Arthur M...</td>\n",
       "      <td>[6]</td>\n",
       "      <td>[Horror, Thriller, Mystery]</td>\n",
       "      <td>[Freya Tingley, Simon Abkarian, Rutger Hauer]</td>\n",
       "      <td>477036</td>\n",
       "      <td>After a gifted musician inherits a mansion aft...</td>\n",
       "    </tr>\n",
       "  </tbody>\n",
       "</table>\n",
       "</div>"
      ],
      "text/plain": [
       "   Opening  Opening.1     original_title  \\\n",
       "0  JANUARY        3.0         The Grudge   \n",
       "1  JANUARY       10.0         Underwater   \n",
       "2  JANUARY       10.0        Like a Boss   \n",
       "3  JANUARY       10.0  Inherit the Viper   \n",
       "4  JANUARY       10.0         The Sonata   \n",
       "\n",
       "                                  Production company  \\\n",
       "0  Screen Gems / Stage 6 Films / Ghost House Pict...   \n",
       "1  20th Century Fox / TSG Entertainment / Chernin...   \n",
       "2                                 Paramount Pictures   \n",
       "3     Barry Films / Tycor International Film Company   \n",
       "4                                 Screen Media Films   \n",
       "\n",
       "                                       Cast and crew Ref.  \\\n",
       "0  Nicolas Pesce (director/screenplay); Andrea Ri...  [2]   \n",
       "1  William Eubank (director); Brian Duffield, Ada...  [3]   \n",
       "2  Miguel Arteta (director); Sam Pitman, Adam Col...  [4]   \n",
       "3  Anthony Jerjen (director); Andrew Crabtree (sc...  [5]   \n",
       "4  Andrew Desmond (director/screenplay); Arthur M...  [6]   \n",
       "\n",
       "                                         genres  \\\n",
       "0                             [Horror, Mystery]   \n",
       "1  [Action, Horror, Science, Fiction, Thriller]   \n",
       "2                                      [Comedy]   \n",
       "3                      [Drama, Thriller, Crime]   \n",
       "4                   [Horror, Thriller, Mystery]   \n",
       "\n",
       "                                                cast  movie_id  \\\n",
       "0      [Andrea Riseborough, Demián Bichir, John Cho]    465086   \n",
       "1  [Kristen Stewart, Vincent Cassel, Jessica Henw...    443791   \n",
       "2         [Tiffany Haddish, Rose Byrne, Salma Hayek]    526019   \n",
       "3  [Josh Hartnett, Margarita Levieva, Chandler Ri...    634904   \n",
       "4      [Freya Tingley, Simon Abkarian, Rutger Hauer]    477036   \n",
       "\n",
       "                                            overview  \n",
       "0  After a young mother murders her family in her...  \n",
       "1  After an earthquake destroys their underwater ...  \n",
       "2  Two female friends with very different ideals ...  \n",
       "3  Since the death of their father, the Riley sib...  \n",
       "4  After a gifted musician inherits a mansion aft...  "
      ]
     },
     "execution_count": 31,
     "metadata": {},
     "output_type": "execute_result"
    }
   ],
   "source": [
    "movies_df.head()"
   ]
  },
  {
   "cell_type": "code",
   "execution_count": 32,
   "metadata": {},
   "outputs": [
    {
     "data": {
      "text/html": [
       "<div>\n",
       "<style scoped>\n",
       "    .dataframe tbody tr th:only-of-type {\n",
       "        vertical-align: middle;\n",
       "    }\n",
       "\n",
       "    .dataframe tbody tr th {\n",
       "        vertical-align: top;\n",
       "    }\n",
       "\n",
       "    .dataframe thead th {\n",
       "        text-align: right;\n",
       "    }\n",
       "</style>\n",
       "<table border=\"1\" class=\"dataframe\">\n",
       "  <thead>\n",
       "    <tr style=\"text-align: right;\">\n",
       "      <th></th>\n",
       "      <th>genres</th>\n",
       "      <th>movie_id</th>\n",
       "      <th>original_title</th>\n",
       "      <th>overview</th>\n",
       "      <th>cast</th>\n",
       "    </tr>\n",
       "  </thead>\n",
       "  <tbody>\n",
       "    <tr>\n",
       "      <th>0</th>\n",
       "      <td>[Horror, Mystery]</td>\n",
       "      <td>465086</td>\n",
       "      <td>The Grudge</td>\n",
       "      <td>After a young mother murders her family in her...</td>\n",
       "      <td>[Andrea Riseborough, Demián Bichir, John Cho]</td>\n",
       "    </tr>\n",
       "    <tr>\n",
       "      <th>1</th>\n",
       "      <td>[Action, Horror, Science, Fiction, Thriller]</td>\n",
       "      <td>443791</td>\n",
       "      <td>Underwater</td>\n",
       "      <td>After an earthquake destroys their underwater ...</td>\n",
       "      <td>[Kristen Stewart, Vincent Cassel, Jessica Henw...</td>\n",
       "    </tr>\n",
       "    <tr>\n",
       "      <th>2</th>\n",
       "      <td>[Comedy]</td>\n",
       "      <td>526019</td>\n",
       "      <td>Like a Boss</td>\n",
       "      <td>Two female friends with very different ideals ...</td>\n",
       "      <td>[Tiffany Haddish, Rose Byrne, Salma Hayek]</td>\n",
       "    </tr>\n",
       "    <tr>\n",
       "      <th>3</th>\n",
       "      <td>[Drama, Thriller, Crime]</td>\n",
       "      <td>634904</td>\n",
       "      <td>Inherit the Viper</td>\n",
       "      <td>Since the death of their father, the Riley sib...</td>\n",
       "      <td>[Josh Hartnett, Margarita Levieva, Chandler Ri...</td>\n",
       "    </tr>\n",
       "    <tr>\n",
       "      <th>4</th>\n",
       "      <td>[Horror, Thriller, Mystery]</td>\n",
       "      <td>477036</td>\n",
       "      <td>The Sonata</td>\n",
       "      <td>After a gifted musician inherits a mansion aft...</td>\n",
       "      <td>[Freya Tingley, Simon Abkarian, Rutger Hauer]</td>\n",
       "    </tr>\n",
       "  </tbody>\n",
       "</table>\n",
       "</div>"
      ],
      "text/plain": [
       "                                         genres  movie_id     original_title  \\\n",
       "0                             [Horror, Mystery]    465086         The Grudge   \n",
       "1  [Action, Horror, Science, Fiction, Thriller]    443791         Underwater   \n",
       "2                                      [Comedy]    526019        Like a Boss   \n",
       "3                      [Drama, Thriller, Crime]    634904  Inherit the Viper   \n",
       "4                   [Horror, Thriller, Mystery]    477036         The Sonata   \n",
       "\n",
       "                                            overview  \\\n",
       "0  After a young mother murders her family in her...   \n",
       "1  After an earthquake destroys their underwater ...   \n",
       "2  Two female friends with very different ideals ...   \n",
       "3  Since the death of their father, the Riley sib...   \n",
       "4  After a gifted musician inherits a mansion aft...   \n",
       "\n",
       "                                                cast  \n",
       "0      [Andrea Riseborough, Demián Bichir, John Cho]  \n",
       "1  [Kristen Stewart, Vincent Cassel, Jessica Henw...  \n",
       "2         [Tiffany Haddish, Rose Byrne, Salma Hayek]  \n",
       "3  [Josh Hartnett, Margarita Levieva, Chandler Ri...  \n",
       "4      [Freya Tingley, Simon Abkarian, Rutger Hauer]  "
      ]
     },
     "execution_count": 32,
     "metadata": {},
     "output_type": "execute_result"
    }
   ],
   "source": [
    "movies_2020 = movies_df.loc[:, ['genres','movie_id','original_title','overview','cast']]\n",
    "movies_2020.head()"
   ]
  },
  {
   "cell_type": "markdown",
   "metadata": {},
   "source": [
    "### Combining with old dataset"
   ]
  },
  {
   "cell_type": "code",
   "execution_count": 33,
   "metadata": {},
   "outputs": [],
   "source": [
    "old = pd.read_csv(\"new_data19.csv\")"
   ]
  },
  {
   "cell_type": "code",
   "execution_count": 34,
   "metadata": {},
   "outputs": [],
   "source": [
    "new_data = old.append(movies_2020)"
   ]
  },
  {
   "cell_type": "code",
   "execution_count": 35,
   "metadata": {},
   "outputs": [
    {
     "data": {
      "text/plain": [
       "(5975, 5)"
      ]
     },
     "execution_count": 35,
     "metadata": {},
     "output_type": "execute_result"
    }
   ],
   "source": [
    "new_data.shape"
   ]
  },
  {
   "cell_type": "code",
   "execution_count": 36,
   "metadata": {},
   "outputs": [],
   "source": [
    "new_data.drop_duplicates(subset= 'original_title', keep= 'last', inplace= True)"
   ]
  },
  {
   "cell_type": "code",
   "execution_count": 37,
   "metadata": {},
   "outputs": [
    {
     "data": {
      "text/plain": [
       "(5969, 5)"
      ]
     },
     "execution_count": 37,
     "metadata": {},
     "output_type": "execute_result"
    }
   ],
   "source": [
    "new_data.shape"
   ]
  },
  {
   "cell_type": "code",
   "execution_count": 39,
   "metadata": {},
   "outputs": [
    {
     "data": {
      "text/plain": [
       "genres            0\n",
       "movie_id          0\n",
       "original_title    0\n",
       "overview          0\n",
       "cast              0\n",
       "dtype: int64"
      ]
     },
     "execution_count": 39,
     "metadata": {},
     "output_type": "execute_result"
    }
   ],
   "source": [
    "new_data.isnull().sum()"
   ]
  },
  {
   "cell_type": "code",
   "execution_count": 40,
   "metadata": {},
   "outputs": [],
   "source": [
    "new_data.to_csv(\"main_data.csv\", index= False)"
   ]
  },
  {
   "cell_type": "code",
   "execution_count": null,
   "metadata": {},
   "outputs": [],
   "source": []
  }
 ],
 "metadata": {
  "kernelspec": {
   "display_name": "Python 3",
   "language": "python",
   "name": "python3"
  },
  "language_info": {
   "codemirror_mode": {
    "name": "ipython",
    "version": 3
   },
   "file_extension": ".py",
   "mimetype": "text/x-python",
   "name": "python",
   "nbconvert_exporter": "python",
   "pygments_lexer": "ipython3",
   "version": "3.7.4"
  }
 },
 "nbformat": 4,
 "nbformat_minor": 4
}
