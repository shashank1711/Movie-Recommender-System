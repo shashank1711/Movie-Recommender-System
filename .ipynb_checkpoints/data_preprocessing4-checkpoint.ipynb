{
 "cells": [
  {
   "cell_type": "markdown",
   "metadata": {},
   "source": [
    "### Importing the Libraries"
   ]
  },
  {
   "cell_type": "code",
   "execution_count": 1,
   "metadata": {},
   "outputs": [],
   "source": [
    "import pandas as pd\n",
    "import numpy as np"
   ]
  },
  {
   "cell_type": "markdown",
   "metadata": {},
   "source": [
    "### Extracting the 2018 movies data from the Wikipedia"
   ]
  },
  {
   "cell_type": "code",
   "execution_count": 2,
   "metadata": {},
   "outputs": [],
   "source": [
    "link = 'https://en.wikipedia.org/wiki/List_of_American_films_of_2018'\n",
    "table1 = pd.read_html(link, header= 0)[2]\n",
    "table2 = pd.read_html(link, header= 0)[3]\n",
    "table3 = pd.read_html(link, header= 0)[4]\n",
    "table4 = pd.read_html(link, header= 0)[5]"
   ]
  },
  {
   "cell_type": "code",
   "execution_count": 3,
   "metadata": {},
   "outputs": [
    {
     "data": {
      "text/html": [
       "<div>\n",
       "<style scoped>\n",
       "    .dataframe tbody tr th:only-of-type {\n",
       "        vertical-align: middle;\n",
       "    }\n",
       "\n",
       "    .dataframe tbody tr th {\n",
       "        vertical-align: top;\n",
       "    }\n",
       "\n",
       "    .dataframe thead th {\n",
       "        text-align: right;\n",
       "    }\n",
       "</style>\n",
       "<table border=\"1\" class=\"dataframe\">\n",
       "  <thead>\n",
       "    <tr style=\"text-align: right;\">\n",
       "      <th></th>\n",
       "      <th>Opening</th>\n",
       "      <th>Opening.1</th>\n",
       "      <th>Title</th>\n",
       "      <th>Production company</th>\n",
       "      <th>Cast and crew</th>\n",
       "      <th>Ref.</th>\n",
       "    </tr>\n",
       "  </thead>\n",
       "  <tbody>\n",
       "    <tr>\n",
       "      <th>0</th>\n",
       "      <td>JANUARY</td>\n",
       "      <td>5</td>\n",
       "      <td>Insidious: The Last Key</td>\n",
       "      <td>Universal Pictures / Blumhouse Productions / S...</td>\n",
       "      <td>Adam Robitel (director); Leigh Whannell (scree...</td>\n",
       "      <td>[2]</td>\n",
       "    </tr>\n",
       "    <tr>\n",
       "      <th>1</th>\n",
       "      <td>JANUARY</td>\n",
       "      <td>5</td>\n",
       "      <td>The Strange Ones</td>\n",
       "      <td>Vertical Entertainment</td>\n",
       "      <td>Lauren Wolkstein (director); Christopher Radcl...</td>\n",
       "      <td>[3]</td>\n",
       "    </tr>\n",
       "    <tr>\n",
       "      <th>2</th>\n",
       "      <td>JANUARY</td>\n",
       "      <td>5</td>\n",
       "      <td>Stratton</td>\n",
       "      <td>Momentum Pictures</td>\n",
       "      <td>Simon West (director); Duncan Falconer, Warren...</td>\n",
       "      <td>[4]</td>\n",
       "    </tr>\n",
       "    <tr>\n",
       "      <th>3</th>\n",
       "      <td>JANUARY</td>\n",
       "      <td>10</td>\n",
       "      <td>Sweet Country</td>\n",
       "      <td>Samuel Goldwyn Films</td>\n",
       "      <td>Warwick Thornton (director); David Tranter, St...</td>\n",
       "      <td>[5]</td>\n",
       "    </tr>\n",
       "    <tr>\n",
       "      <th>4</th>\n",
       "      <td>JANUARY</td>\n",
       "      <td>12</td>\n",
       "      <td>The Commuter</td>\n",
       "      <td>Lionsgate / StudioCanal / The Picture Company</td>\n",
       "      <td>Jaume Collet-Serra (director); Byron Willinger...</td>\n",
       "      <td>[6]</td>\n",
       "    </tr>\n",
       "  </tbody>\n",
       "</table>\n",
       "</div>"
      ],
      "text/plain": [
       "   Opening  Opening.1                    Title  \\\n",
       "0  JANUARY          5  Insidious: The Last Key   \n",
       "1  JANUARY          5         The Strange Ones   \n",
       "2  JANUARY          5                 Stratton   \n",
       "3  JANUARY         10            Sweet Country   \n",
       "4  JANUARY         12             The Commuter   \n",
       "\n",
       "                                  Production company  \\\n",
       "0  Universal Pictures / Blumhouse Productions / S...   \n",
       "1                             Vertical Entertainment   \n",
       "2                                  Momentum Pictures   \n",
       "3                               Samuel Goldwyn Films   \n",
       "4      Lionsgate / StudioCanal / The Picture Company   \n",
       "\n",
       "                                       Cast and crew Ref.  \n",
       "0  Adam Robitel (director); Leigh Whannell (scree...  [2]  \n",
       "1  Lauren Wolkstein (director); Christopher Radcl...  [3]  \n",
       "2  Simon West (director); Duncan Falconer, Warren...  [4]  \n",
       "3  Warwick Thornton (director); David Tranter, St...  [5]  \n",
       "4  Jaume Collet-Serra (director); Byron Willinger...  [6]  "
      ]
     },
     "execution_count": 3,
     "metadata": {},
     "output_type": "execute_result"
    }
   ],
   "source": [
    "table1.head()"
   ]
  },
  {
   "cell_type": "code",
   "execution_count": 4,
   "metadata": {},
   "outputs": [],
   "source": [
    "movies_df = table1.append(table2.append(table3.append(table4,ignore_index= True),ignore_index= True),ignore_index= True)"
   ]
  },
  {
   "cell_type": "code",
   "execution_count": 5,
   "metadata": {},
   "outputs": [
    {
     "data": {
      "text/html": [
       "<div>\n",
       "<style scoped>\n",
       "    .dataframe tbody tr th:only-of-type {\n",
       "        vertical-align: middle;\n",
       "    }\n",
       "\n",
       "    .dataframe tbody tr th {\n",
       "        vertical-align: top;\n",
       "    }\n",
       "\n",
       "    .dataframe thead th {\n",
       "        text-align: right;\n",
       "    }\n",
       "</style>\n",
       "<table border=\"1\" class=\"dataframe\">\n",
       "  <thead>\n",
       "    <tr style=\"text-align: right;\">\n",
       "      <th></th>\n",
       "      <th>Opening</th>\n",
       "      <th>Opening.1</th>\n",
       "      <th>Title</th>\n",
       "      <th>Production company</th>\n",
       "      <th>Cast and crew</th>\n",
       "      <th>Ref.</th>\n",
       "    </tr>\n",
       "  </thead>\n",
       "  <tbody>\n",
       "    <tr>\n",
       "      <th>0</th>\n",
       "      <td>JANUARY</td>\n",
       "      <td>5</td>\n",
       "      <td>Insidious: The Last Key</td>\n",
       "      <td>Universal Pictures / Blumhouse Productions / S...</td>\n",
       "      <td>Adam Robitel (director); Leigh Whannell (scree...</td>\n",
       "      <td>[2]</td>\n",
       "    </tr>\n",
       "    <tr>\n",
       "      <th>1</th>\n",
       "      <td>JANUARY</td>\n",
       "      <td>5</td>\n",
       "      <td>The Strange Ones</td>\n",
       "      <td>Vertical Entertainment</td>\n",
       "      <td>Lauren Wolkstein (director); Christopher Radcl...</td>\n",
       "      <td>[3]</td>\n",
       "    </tr>\n",
       "    <tr>\n",
       "      <th>2</th>\n",
       "      <td>JANUARY</td>\n",
       "      <td>5</td>\n",
       "      <td>Stratton</td>\n",
       "      <td>Momentum Pictures</td>\n",
       "      <td>Simon West (director); Duncan Falconer, Warren...</td>\n",
       "      <td>[4]</td>\n",
       "    </tr>\n",
       "    <tr>\n",
       "      <th>3</th>\n",
       "      <td>JANUARY</td>\n",
       "      <td>10</td>\n",
       "      <td>Sweet Country</td>\n",
       "      <td>Samuel Goldwyn Films</td>\n",
       "      <td>Warwick Thornton (director); David Tranter, St...</td>\n",
       "      <td>[5]</td>\n",
       "    </tr>\n",
       "    <tr>\n",
       "      <th>4</th>\n",
       "      <td>JANUARY</td>\n",
       "      <td>12</td>\n",
       "      <td>The Commuter</td>\n",
       "      <td>Lionsgate / StudioCanal / The Picture Company</td>\n",
       "      <td>Jaume Collet-Serra (director); Byron Willinger...</td>\n",
       "      <td>[6]</td>\n",
       "    </tr>\n",
       "  </tbody>\n",
       "</table>\n",
       "</div>"
      ],
      "text/plain": [
       "   Opening  Opening.1                    Title  \\\n",
       "0  JANUARY          5  Insidious: The Last Key   \n",
       "1  JANUARY          5         The Strange Ones   \n",
       "2  JANUARY          5                 Stratton   \n",
       "3  JANUARY         10            Sweet Country   \n",
       "4  JANUARY         12             The Commuter   \n",
       "\n",
       "                                  Production company  \\\n",
       "0  Universal Pictures / Blumhouse Productions / S...   \n",
       "1                             Vertical Entertainment   \n",
       "2                                  Momentum Pictures   \n",
       "3                               Samuel Goldwyn Films   \n",
       "4      Lionsgate / StudioCanal / The Picture Company   \n",
       "\n",
       "                                       Cast and crew Ref.  \n",
       "0  Adam Robitel (director); Leigh Whannell (scree...  [2]  \n",
       "1  Lauren Wolkstein (director); Christopher Radcl...  [3]  \n",
       "2  Simon West (director); Duncan Falconer, Warren...  [4]  \n",
       "3  Warwick Thornton (director); David Tranter, St...  [5]  \n",
       "4  Jaume Collet-Serra (director); Byron Willinger...  [6]  "
      ]
     },
     "execution_count": 5,
     "metadata": {},
     "output_type": "execute_result"
    }
   ],
   "source": [
    "movies_df.head()"
   ]
  },
  {
   "cell_type": "code",
   "execution_count": 6,
   "metadata": {},
   "outputs": [
    {
     "data": {
      "text/plain": [
       "(268, 6)"
      ]
     },
     "execution_count": 6,
     "metadata": {},
     "output_type": "execute_result"
    }
   ],
   "source": [
    "movies_df.shape"
   ]
  },
  {
   "cell_type": "code",
   "execution_count": 4,
   "metadata": {},
   "outputs": [],
   "source": [
    "# Getting genre column from TMDB\n",
    "from tmdbv3api import TMDb\n",
    "tmdb = TMDb()\n",
    "tmdb.api_key = ''"
   ]
  },
  {
   "cell_type": "code",
   "execution_count": 5,
   "metadata": {},
   "outputs": [],
   "source": [
    "from tmdbv3api import Movie\n",
    "import requests\n",
    "import json\n",
    "tmdb_movie = Movie()"
   ]
  },
  {
   "cell_type": "code",
   "execution_count": 9,
   "metadata": {},
   "outputs": [],
   "source": [
    "def get_genre(x):\n",
    "    genres = []\n",
    "    result = tmdb_movie.search(x)\n",
    "    movie_id = result[0].id\n",
    "    response = requests.get('https://api.themoviedb.org/3/movie/{}?api_key={}' .format(movie_id, tmdb.api_key))\n",
    "    data = response.json()\n",
    "    if data['genres']:\n",
    "        genre_names = ' '\n",
    "        for i in range(len(data['genres'])):\n",
    "            genres.append(data['genres'][i]['name'])\n",
    "        return genre_names.join(genres)\n",
    "    else:\n",
    "        np.NaN"
   ]
  },
  {
   "cell_type": "code",
   "execution_count": 10,
   "metadata": {},
   "outputs": [],
   "source": [
    "movies_df['genres'] = movies_df['Title'].map(lambda x: get_genre(str(x)))"
   ]
  },
  {
   "cell_type": "code",
   "execution_count": 11,
   "metadata": {},
   "outputs": [
    {
     "data": {
      "text/html": [
       "<div>\n",
       "<style scoped>\n",
       "    .dataframe tbody tr th:only-of-type {\n",
       "        vertical-align: middle;\n",
       "    }\n",
       "\n",
       "    .dataframe tbody tr th {\n",
       "        vertical-align: top;\n",
       "    }\n",
       "\n",
       "    .dataframe thead th {\n",
       "        text-align: right;\n",
       "    }\n",
       "</style>\n",
       "<table border=\"1\" class=\"dataframe\">\n",
       "  <thead>\n",
       "    <tr style=\"text-align: right;\">\n",
       "      <th></th>\n",
       "      <th>Opening</th>\n",
       "      <th>Opening.1</th>\n",
       "      <th>Title</th>\n",
       "      <th>Production company</th>\n",
       "      <th>Cast and crew</th>\n",
       "      <th>Ref.</th>\n",
       "      <th>genres</th>\n",
       "    </tr>\n",
       "  </thead>\n",
       "  <tbody>\n",
       "    <tr>\n",
       "      <th>0</th>\n",
       "      <td>JANUARY</td>\n",
       "      <td>5</td>\n",
       "      <td>Insidious: The Last Key</td>\n",
       "      <td>Universal Pictures / Blumhouse Productions / S...</td>\n",
       "      <td>Adam Robitel (director); Leigh Whannell (scree...</td>\n",
       "      <td>[2]</td>\n",
       "      <td>Mystery Horror Thriller</td>\n",
       "    </tr>\n",
       "    <tr>\n",
       "      <th>1</th>\n",
       "      <td>JANUARY</td>\n",
       "      <td>5</td>\n",
       "      <td>The Strange Ones</td>\n",
       "      <td>Vertical Entertainment</td>\n",
       "      <td>Lauren Wolkstein (director); Christopher Radcl...</td>\n",
       "      <td>[3]</td>\n",
       "      <td>Thriller Drama</td>\n",
       "    </tr>\n",
       "    <tr>\n",
       "      <th>2</th>\n",
       "      <td>JANUARY</td>\n",
       "      <td>5</td>\n",
       "      <td>Stratton</td>\n",
       "      <td>Momentum Pictures</td>\n",
       "      <td>Simon West (director); Duncan Falconer, Warren...</td>\n",
       "      <td>[4]</td>\n",
       "      <td>Action Thriller</td>\n",
       "    </tr>\n",
       "    <tr>\n",
       "      <th>3</th>\n",
       "      <td>JANUARY</td>\n",
       "      <td>10</td>\n",
       "      <td>Sweet Country</td>\n",
       "      <td>Samuel Goldwyn Films</td>\n",
       "      <td>Warwick Thornton (director); David Tranter, St...</td>\n",
       "      <td>[5]</td>\n",
       "      <td>Drama History Western</td>\n",
       "    </tr>\n",
       "    <tr>\n",
       "      <th>4</th>\n",
       "      <td>JANUARY</td>\n",
       "      <td>12</td>\n",
       "      <td>The Commuter</td>\n",
       "      <td>Lionsgate / StudioCanal / The Picture Company</td>\n",
       "      <td>Jaume Collet-Serra (director); Byron Willinger...</td>\n",
       "      <td>[6]</td>\n",
       "      <td>Action Thriller</td>\n",
       "    </tr>\n",
       "  </tbody>\n",
       "</table>\n",
       "</div>"
      ],
      "text/plain": [
       "   Opening  Opening.1                    Title  \\\n",
       "0  JANUARY          5  Insidious: The Last Key   \n",
       "1  JANUARY          5         The Strange Ones   \n",
       "2  JANUARY          5                 Stratton   \n",
       "3  JANUARY         10            Sweet Country   \n",
       "4  JANUARY         12             The Commuter   \n",
       "\n",
       "                                  Production company  \\\n",
       "0  Universal Pictures / Blumhouse Productions / S...   \n",
       "1                             Vertical Entertainment   \n",
       "2                                  Momentum Pictures   \n",
       "3                               Samuel Goldwyn Films   \n",
       "4      Lionsgate / StudioCanal / The Picture Company   \n",
       "\n",
       "                                       Cast and crew Ref.  \\\n",
       "0  Adam Robitel (director); Leigh Whannell (scree...  [2]   \n",
       "1  Lauren Wolkstein (director); Christopher Radcl...  [3]   \n",
       "2  Simon West (director); Duncan Falconer, Warren...  [4]   \n",
       "3  Warwick Thornton (director); David Tranter, St...  [5]   \n",
       "4  Jaume Collet-Serra (director); Byron Willinger...  [6]   \n",
       "\n",
       "                    genres  \n",
       "0  Mystery Horror Thriller  \n",
       "1           Thriller Drama  \n",
       "2          Action Thriller  \n",
       "3    Drama History Western  \n",
       "4          Action Thriller  "
      ]
     },
     "execution_count": 11,
     "metadata": {},
     "output_type": "execute_result"
    }
   ],
   "source": [
    "movies_df.head()"
   ]
  },
  {
   "cell_type": "code",
   "execution_count": 12,
   "metadata": {},
   "outputs": [
    {
     "data": {
      "text/plain": [
       "'Mystery Horror Thriller'"
      ]
     },
     "execution_count": 12,
     "metadata": {},
     "output_type": "execute_result"
    }
   ],
   "source": [
    "movies_df.loc[0, 'genres']"
   ]
  },
  {
   "cell_type": "code",
   "execution_count": 13,
   "metadata": {},
   "outputs": [],
   "source": [
    "movies_df = movies_df.dropna()"
   ]
  },
  {
   "cell_type": "code",
   "execution_count": 14,
   "metadata": {},
   "outputs": [
    {
     "data": {
      "text/plain": [
       "Opening               0\n",
       "Opening.1             0\n",
       "Title                 0\n",
       "Production company    0\n",
       "Cast and crew         0\n",
       "Ref.                  0\n",
       "genres                0\n",
       "dtype: int64"
      ]
     },
     "execution_count": 14,
     "metadata": {},
     "output_type": "execute_result"
    }
   ],
   "source": [
    "movies_df.isnull().sum()"
   ]
  },
  {
   "cell_type": "code",
   "execution_count": 15,
   "metadata": {},
   "outputs": [
    {
     "name": "stdout",
     "output_type": "stream",
     "text": [
      "<class 'str'>\n"
     ]
    }
   ],
   "source": [
    "print(type(movies_df.loc[0, 'genres']))"
   ]
  },
  {
   "cell_type": "code",
   "execution_count": 16,
   "metadata": {},
   "outputs": [],
   "source": [
    "# Converting string to list in genres column\n",
    "def convert(string):\n",
    "    li = list(string.split(\" \")) \n",
    "    return li"
   ]
  },
  {
   "cell_type": "code",
   "execution_count": 17,
   "metadata": {},
   "outputs": [],
   "source": [
    "movies_df['genres'] = movies_df['genres'].map(lambda x: convert(x))"
   ]
  },
  {
   "cell_type": "code",
   "execution_count": 18,
   "metadata": {},
   "outputs": [
    {
     "data": {
      "text/html": [
       "<div>\n",
       "<style scoped>\n",
       "    .dataframe tbody tr th:only-of-type {\n",
       "        vertical-align: middle;\n",
       "    }\n",
       "\n",
       "    .dataframe tbody tr th {\n",
       "        vertical-align: top;\n",
       "    }\n",
       "\n",
       "    .dataframe thead th {\n",
       "        text-align: right;\n",
       "    }\n",
       "</style>\n",
       "<table border=\"1\" class=\"dataframe\">\n",
       "  <thead>\n",
       "    <tr style=\"text-align: right;\">\n",
       "      <th></th>\n",
       "      <th>Opening</th>\n",
       "      <th>Opening.1</th>\n",
       "      <th>Title</th>\n",
       "      <th>Production company</th>\n",
       "      <th>Cast and crew</th>\n",
       "      <th>Ref.</th>\n",
       "      <th>genres</th>\n",
       "    </tr>\n",
       "  </thead>\n",
       "  <tbody>\n",
       "    <tr>\n",
       "      <th>0</th>\n",
       "      <td>JANUARY</td>\n",
       "      <td>5</td>\n",
       "      <td>Insidious: The Last Key</td>\n",
       "      <td>Universal Pictures / Blumhouse Productions / S...</td>\n",
       "      <td>Adam Robitel (director); Leigh Whannell (scree...</td>\n",
       "      <td>[2]</td>\n",
       "      <td>[Mystery, Horror, Thriller]</td>\n",
       "    </tr>\n",
       "    <tr>\n",
       "      <th>1</th>\n",
       "      <td>JANUARY</td>\n",
       "      <td>5</td>\n",
       "      <td>The Strange Ones</td>\n",
       "      <td>Vertical Entertainment</td>\n",
       "      <td>Lauren Wolkstein (director); Christopher Radcl...</td>\n",
       "      <td>[3]</td>\n",
       "      <td>[Thriller, Drama]</td>\n",
       "    </tr>\n",
       "    <tr>\n",
       "      <th>2</th>\n",
       "      <td>JANUARY</td>\n",
       "      <td>5</td>\n",
       "      <td>Stratton</td>\n",
       "      <td>Momentum Pictures</td>\n",
       "      <td>Simon West (director); Duncan Falconer, Warren...</td>\n",
       "      <td>[4]</td>\n",
       "      <td>[Action, Thriller]</td>\n",
       "    </tr>\n",
       "    <tr>\n",
       "      <th>3</th>\n",
       "      <td>JANUARY</td>\n",
       "      <td>10</td>\n",
       "      <td>Sweet Country</td>\n",
       "      <td>Samuel Goldwyn Films</td>\n",
       "      <td>Warwick Thornton (director); David Tranter, St...</td>\n",
       "      <td>[5]</td>\n",
       "      <td>[Drama, History, Western]</td>\n",
       "    </tr>\n",
       "    <tr>\n",
       "      <th>4</th>\n",
       "      <td>JANUARY</td>\n",
       "      <td>12</td>\n",
       "      <td>The Commuter</td>\n",
       "      <td>Lionsgate / StudioCanal / The Picture Company</td>\n",
       "      <td>Jaume Collet-Serra (director); Byron Willinger...</td>\n",
       "      <td>[6]</td>\n",
       "      <td>[Action, Thriller]</td>\n",
       "    </tr>\n",
       "  </tbody>\n",
       "</table>\n",
       "</div>"
      ],
      "text/plain": [
       "   Opening  Opening.1                    Title  \\\n",
       "0  JANUARY          5  Insidious: The Last Key   \n",
       "1  JANUARY          5         The Strange Ones   \n",
       "2  JANUARY          5                 Stratton   \n",
       "3  JANUARY         10            Sweet Country   \n",
       "4  JANUARY         12             The Commuter   \n",
       "\n",
       "                                  Production company  \\\n",
       "0  Universal Pictures / Blumhouse Productions / S...   \n",
       "1                             Vertical Entertainment   \n",
       "2                                  Momentum Pictures   \n",
       "3                               Samuel Goldwyn Films   \n",
       "4      Lionsgate / StudioCanal / The Picture Company   \n",
       "\n",
       "                                       Cast and crew Ref.  \\\n",
       "0  Adam Robitel (director); Leigh Whannell (scree...  [2]   \n",
       "1  Lauren Wolkstein (director); Christopher Radcl...  [3]   \n",
       "2  Simon West (director); Duncan Falconer, Warren...  [4]   \n",
       "3  Warwick Thornton (director); David Tranter, St...  [5]   \n",
       "4  Jaume Collet-Serra (director); Byron Willinger...  [6]   \n",
       "\n",
       "                        genres  \n",
       "0  [Mystery, Horror, Thriller]  \n",
       "1            [Thriller, Drama]  \n",
       "2           [Action, Thriller]  \n",
       "3    [Drama, History, Western]  \n",
       "4           [Action, Thriller]  "
      ]
     },
     "execution_count": 18,
     "metadata": {},
     "output_type": "execute_result"
    }
   ],
   "source": [
    "movies_df.head()"
   ]
  },
  {
   "cell_type": "code",
   "execution_count": 19,
   "metadata": {},
   "outputs": [
    {
     "data": {
      "text/plain": [
       "['Mystery', 'Horror', 'Thriller']"
      ]
     },
     "execution_count": 19,
     "metadata": {},
     "output_type": "execute_result"
    }
   ],
   "source": [
    "movies_df.loc[0, 'genres']"
   ]
  },
  {
   "cell_type": "code",
   "execution_count": 20,
   "metadata": {},
   "outputs": [
    {
     "data": {
      "text/plain": [
       "'Adam Robitel (director); Leigh Whannell (screenplay); Lin Shaye, Angus Sampson, Leigh Whannell, Spencer Locke, Caitlin Gerard, Kirk Acevedo, Bruce Davison'"
      ]
     },
     "execution_count": 20,
     "metadata": {},
     "output_type": "execute_result"
    }
   ],
   "source": [
    "movies_df.loc[0, 'Cast and crew']"
   ]
  },
  {
   "cell_type": "code",
   "execution_count": 21,
   "metadata": {},
   "outputs": [
    {
     "data": {
      "text/html": [
       "<div>\n",
       "<style scoped>\n",
       "    .dataframe tbody tr th:only-of-type {\n",
       "        vertical-align: middle;\n",
       "    }\n",
       "\n",
       "    .dataframe tbody tr th {\n",
       "        vertical-align: top;\n",
       "    }\n",
       "\n",
       "    .dataframe thead th {\n",
       "        text-align: right;\n",
       "    }\n",
       "</style>\n",
       "<table border=\"1\" class=\"dataframe\">\n",
       "  <thead>\n",
       "    <tr style=\"text-align: right;\">\n",
       "      <th></th>\n",
       "      <th>Opening</th>\n",
       "      <th>Opening.1</th>\n",
       "      <th>Title</th>\n",
       "      <th>Production company</th>\n",
       "      <th>Cast and crew</th>\n",
       "      <th>Ref.</th>\n",
       "      <th>genres</th>\n",
       "    </tr>\n",
       "  </thead>\n",
       "  <tbody>\n",
       "    <tr>\n",
       "      <th>0</th>\n",
       "      <td>JANUARY</td>\n",
       "      <td>5</td>\n",
       "      <td>Insidious: The Last Key</td>\n",
       "      <td>Universal Pictures / Blumhouse Productions / S...</td>\n",
       "      <td>Adam Robitel (director); Leigh Whannell (scree...</td>\n",
       "      <td>[2]</td>\n",
       "      <td>[Mystery, Horror, Thriller]</td>\n",
       "    </tr>\n",
       "    <tr>\n",
       "      <th>1</th>\n",
       "      <td>JANUARY</td>\n",
       "      <td>5</td>\n",
       "      <td>The Strange Ones</td>\n",
       "      <td>Vertical Entertainment</td>\n",
       "      <td>Lauren Wolkstein (director); Christopher Radcl...</td>\n",
       "      <td>[3]</td>\n",
       "      <td>[Thriller, Drama]</td>\n",
       "    </tr>\n",
       "    <tr>\n",
       "      <th>2</th>\n",
       "      <td>JANUARY</td>\n",
       "      <td>5</td>\n",
       "      <td>Stratton</td>\n",
       "      <td>Momentum Pictures</td>\n",
       "      <td>Simon West (director); Duncan Falconer, Warren...</td>\n",
       "      <td>[4]</td>\n",
       "      <td>[Action, Thriller]</td>\n",
       "    </tr>\n",
       "    <tr>\n",
       "      <th>3</th>\n",
       "      <td>JANUARY</td>\n",
       "      <td>10</td>\n",
       "      <td>Sweet Country</td>\n",
       "      <td>Samuel Goldwyn Films</td>\n",
       "      <td>Warwick Thornton (director); David Tranter, St...</td>\n",
       "      <td>[5]</td>\n",
       "      <td>[Drama, History, Western]</td>\n",
       "    </tr>\n",
       "    <tr>\n",
       "      <th>4</th>\n",
       "      <td>JANUARY</td>\n",
       "      <td>12</td>\n",
       "      <td>The Commuter</td>\n",
       "      <td>Lionsgate / StudioCanal / The Picture Company</td>\n",
       "      <td>Jaume Collet-Serra (director); Byron Willinger...</td>\n",
       "      <td>[6]</td>\n",
       "      <td>[Action, Thriller]</td>\n",
       "    </tr>\n",
       "  </tbody>\n",
       "</table>\n",
       "</div>"
      ],
      "text/plain": [
       "   Opening  Opening.1                    Title  \\\n",
       "0  JANUARY          5  Insidious: The Last Key   \n",
       "1  JANUARY          5         The Strange Ones   \n",
       "2  JANUARY          5                 Stratton   \n",
       "3  JANUARY         10            Sweet Country   \n",
       "4  JANUARY         12             The Commuter   \n",
       "\n",
       "                                  Production company  \\\n",
       "0  Universal Pictures / Blumhouse Productions / S...   \n",
       "1                             Vertical Entertainment   \n",
       "2                                  Momentum Pictures   \n",
       "3                               Samuel Goldwyn Films   \n",
       "4      Lionsgate / StudioCanal / The Picture Company   \n",
       "\n",
       "                                       Cast and crew Ref.  \\\n",
       "0  Adam Robitel (director); Leigh Whannell (scree...  [2]   \n",
       "1  Lauren Wolkstein (director); Christopher Radcl...  [3]   \n",
       "2  Simon West (director); Duncan Falconer, Warren...  [4]   \n",
       "3  Warwick Thornton (director); David Tranter, St...  [5]   \n",
       "4  Jaume Collet-Serra (director); Byron Willinger...  [6]   \n",
       "\n",
       "                        genres  \n",
       "0  [Mystery, Horror, Thriller]  \n",
       "1            [Thriller, Drama]  \n",
       "2           [Action, Thriller]  \n",
       "3    [Drama, History, Western]  \n",
       "4           [Action, Thriller]  "
      ]
     },
     "execution_count": 21,
     "metadata": {},
     "output_type": "execute_result"
    }
   ],
   "source": [
    "data_df = movies_df.copy()\n",
    "data_df.head()"
   ]
  },
  {
   "cell_type": "code",
   "execution_count": 22,
   "metadata": {},
   "outputs": [],
   "source": [
    "def get_cast(x):\n",
    "    return ((x.split(\"screenplay); \")[-1]).split(\", \")[0:3])"
   ]
  },
  {
   "cell_type": "code",
   "execution_count": 23,
   "metadata": {},
   "outputs": [],
   "source": [
    "movies_df['cast'] = movies_df['Cast and crew'].map(lambda x: get_cast(x))"
   ]
  },
  {
   "cell_type": "code",
   "execution_count": 24,
   "metadata": {},
   "outputs": [
    {
     "data": {
      "text/html": [
       "<div>\n",
       "<style scoped>\n",
       "    .dataframe tbody tr th:only-of-type {\n",
       "        vertical-align: middle;\n",
       "    }\n",
       "\n",
       "    .dataframe tbody tr th {\n",
       "        vertical-align: top;\n",
       "    }\n",
       "\n",
       "    .dataframe thead th {\n",
       "        text-align: right;\n",
       "    }\n",
       "</style>\n",
       "<table border=\"1\" class=\"dataframe\">\n",
       "  <thead>\n",
       "    <tr style=\"text-align: right;\">\n",
       "      <th></th>\n",
       "      <th>Opening</th>\n",
       "      <th>Opening.1</th>\n",
       "      <th>Title</th>\n",
       "      <th>Production company</th>\n",
       "      <th>Cast and crew</th>\n",
       "      <th>Ref.</th>\n",
       "      <th>genres</th>\n",
       "      <th>cast</th>\n",
       "    </tr>\n",
       "  </thead>\n",
       "  <tbody>\n",
       "    <tr>\n",
       "      <th>0</th>\n",
       "      <td>JANUARY</td>\n",
       "      <td>5</td>\n",
       "      <td>Insidious: The Last Key</td>\n",
       "      <td>Universal Pictures / Blumhouse Productions / S...</td>\n",
       "      <td>Adam Robitel (director); Leigh Whannell (scree...</td>\n",
       "      <td>[2]</td>\n",
       "      <td>[Mystery, Horror, Thriller]</td>\n",
       "      <td>[Lin Shaye, Angus Sampson, Leigh Whannell]</td>\n",
       "    </tr>\n",
       "    <tr>\n",
       "      <th>1</th>\n",
       "      <td>JANUARY</td>\n",
       "      <td>5</td>\n",
       "      <td>The Strange Ones</td>\n",
       "      <td>Vertical Entertainment</td>\n",
       "      <td>Lauren Wolkstein (director); Christopher Radcl...</td>\n",
       "      <td>[3]</td>\n",
       "      <td>[Thriller, Drama]</td>\n",
       "      <td>[Alex Pettyfer, James Freedson-Jackson, Emily ...</td>\n",
       "    </tr>\n",
       "    <tr>\n",
       "      <th>2</th>\n",
       "      <td>JANUARY</td>\n",
       "      <td>5</td>\n",
       "      <td>Stratton</td>\n",
       "      <td>Momentum Pictures</td>\n",
       "      <td>Simon West (director); Duncan Falconer, Warren...</td>\n",
       "      <td>[4]</td>\n",
       "      <td>[Action, Thriller]</td>\n",
       "      <td>[Dominic Cooper, Austin Stowell, Gemma Chan]</td>\n",
       "    </tr>\n",
       "    <tr>\n",
       "      <th>3</th>\n",
       "      <td>JANUARY</td>\n",
       "      <td>10</td>\n",
       "      <td>Sweet Country</td>\n",
       "      <td>Samuel Goldwyn Films</td>\n",
       "      <td>Warwick Thornton (director); David Tranter, St...</td>\n",
       "      <td>[5]</td>\n",
       "      <td>[Drama, History, Western]</td>\n",
       "      <td>[Bryan Brown, Sam Neill]</td>\n",
       "    </tr>\n",
       "    <tr>\n",
       "      <th>4</th>\n",
       "      <td>JANUARY</td>\n",
       "      <td>12</td>\n",
       "      <td>The Commuter</td>\n",
       "      <td>Lionsgate / StudioCanal / The Picture Company</td>\n",
       "      <td>Jaume Collet-Serra (director); Byron Willinger...</td>\n",
       "      <td>[6]</td>\n",
       "      <td>[Action, Thriller]</td>\n",
       "      <td>[Liam Neeson, Vera Farmiga, Patrick Wilson]</td>\n",
       "    </tr>\n",
       "  </tbody>\n",
       "</table>\n",
       "</div>"
      ],
      "text/plain": [
       "   Opening  Opening.1                    Title  \\\n",
       "0  JANUARY          5  Insidious: The Last Key   \n",
       "1  JANUARY          5         The Strange Ones   \n",
       "2  JANUARY          5                 Stratton   \n",
       "3  JANUARY         10            Sweet Country   \n",
       "4  JANUARY         12             The Commuter   \n",
       "\n",
       "                                  Production company  \\\n",
       "0  Universal Pictures / Blumhouse Productions / S...   \n",
       "1                             Vertical Entertainment   \n",
       "2                                  Momentum Pictures   \n",
       "3                               Samuel Goldwyn Films   \n",
       "4      Lionsgate / StudioCanal / The Picture Company   \n",
       "\n",
       "                                       Cast and crew Ref.  \\\n",
       "0  Adam Robitel (director); Leigh Whannell (scree...  [2]   \n",
       "1  Lauren Wolkstein (director); Christopher Radcl...  [3]   \n",
       "2  Simon West (director); Duncan Falconer, Warren...  [4]   \n",
       "3  Warwick Thornton (director); David Tranter, St...  [5]   \n",
       "4  Jaume Collet-Serra (director); Byron Willinger...  [6]   \n",
       "\n",
       "                        genres  \\\n",
       "0  [Mystery, Horror, Thriller]   \n",
       "1            [Thriller, Drama]   \n",
       "2           [Action, Thriller]   \n",
       "3    [Drama, History, Western]   \n",
       "4           [Action, Thriller]   \n",
       "\n",
       "                                                cast  \n",
       "0         [Lin Shaye, Angus Sampson, Leigh Whannell]  \n",
       "1  [Alex Pettyfer, James Freedson-Jackson, Emily ...  \n",
       "2       [Dominic Cooper, Austin Stowell, Gemma Chan]  \n",
       "3                           [Bryan Brown, Sam Neill]  \n",
       "4        [Liam Neeson, Vera Farmiga, Patrick Wilson]  "
      ]
     },
     "execution_count": 24,
     "metadata": {},
     "output_type": "execute_result"
    }
   ],
   "source": [
    "movies_df.head()"
   ]
  },
  {
   "cell_type": "code",
   "execution_count": 25,
   "metadata": {},
   "outputs": [
    {
     "data": {
      "text/plain": [
       "['Jemaine Clement', 'Elliott Gould', 'Ingrid Michaelson']"
      ]
     },
     "execution_count": 25,
     "metadata": {},
     "output_type": "execute_result"
    }
   ],
   "source": [
    "movies_df.loc[8, 'cast']"
   ]
  },
  {
   "cell_type": "code",
   "execution_count": 26,
   "metadata": {},
   "outputs": [
    {
     "data": {
      "text/plain": [
       "Index(['Opening', 'Opening.1', 'Title', 'Production company', 'Cast and crew',\n",
       "       'Ref.', 'genres', 'cast'],\n",
       "      dtype='object')"
      ]
     },
     "execution_count": 26,
     "metadata": {},
     "output_type": "execute_result"
    }
   ],
   "source": [
    "movies_df.columns"
   ]
  },
  {
   "cell_type": "code",
   "execution_count": 27,
   "metadata": {},
   "outputs": [],
   "source": [
    "movies_df = movies_df.rename(columns= {'Title': 'original_title'})"
   ]
  },
  {
   "cell_type": "code",
   "execution_count": 28,
   "metadata": {},
   "outputs": [],
   "source": [
    "movies_2018 = movies_df.loc[:, ['genres','original_title','cast']]"
   ]
  },
  {
   "cell_type": "code",
   "execution_count": 29,
   "metadata": {},
   "outputs": [
    {
     "data": {
      "text/html": [
       "<div>\n",
       "<style scoped>\n",
       "    .dataframe tbody tr th:only-of-type {\n",
       "        vertical-align: middle;\n",
       "    }\n",
       "\n",
       "    .dataframe tbody tr th {\n",
       "        vertical-align: top;\n",
       "    }\n",
       "\n",
       "    .dataframe thead th {\n",
       "        text-align: right;\n",
       "    }\n",
       "</style>\n",
       "<table border=\"1\" class=\"dataframe\">\n",
       "  <thead>\n",
       "    <tr style=\"text-align: right;\">\n",
       "      <th></th>\n",
       "      <th>genres</th>\n",
       "      <th>original_title</th>\n",
       "      <th>cast</th>\n",
       "    </tr>\n",
       "  </thead>\n",
       "  <tbody>\n",
       "    <tr>\n",
       "      <th>0</th>\n",
       "      <td>[Mystery, Horror, Thriller]</td>\n",
       "      <td>Insidious: The Last Key</td>\n",
       "      <td>[Lin Shaye, Angus Sampson, Leigh Whannell]</td>\n",
       "    </tr>\n",
       "    <tr>\n",
       "      <th>1</th>\n",
       "      <td>[Thriller, Drama]</td>\n",
       "      <td>The Strange Ones</td>\n",
       "      <td>[Alex Pettyfer, James Freedson-Jackson, Emily ...</td>\n",
       "    </tr>\n",
       "    <tr>\n",
       "      <th>2</th>\n",
       "      <td>[Action, Thriller]</td>\n",
       "      <td>Stratton</td>\n",
       "      <td>[Dominic Cooper, Austin Stowell, Gemma Chan]</td>\n",
       "    </tr>\n",
       "    <tr>\n",
       "      <th>3</th>\n",
       "      <td>[Drama, History, Western]</td>\n",
       "      <td>Sweet Country</td>\n",
       "      <td>[Bryan Brown, Sam Neill]</td>\n",
       "    </tr>\n",
       "    <tr>\n",
       "      <th>4</th>\n",
       "      <td>[Action, Thriller]</td>\n",
       "      <td>The Commuter</td>\n",
       "      <td>[Liam Neeson, Vera Farmiga, Patrick Wilson]</td>\n",
       "    </tr>\n",
       "  </tbody>\n",
       "</table>\n",
       "</div>"
      ],
      "text/plain": [
       "                        genres           original_title  \\\n",
       "0  [Mystery, Horror, Thriller]  Insidious: The Last Key   \n",
       "1            [Thriller, Drama]         The Strange Ones   \n",
       "2           [Action, Thriller]                 Stratton   \n",
       "3    [Drama, History, Western]            Sweet Country   \n",
       "4           [Action, Thriller]             The Commuter   \n",
       "\n",
       "                                                cast  \n",
       "0         [Lin Shaye, Angus Sampson, Leigh Whannell]  \n",
       "1  [Alex Pettyfer, James Freedson-Jackson, Emily ...  \n",
       "2       [Dominic Cooper, Austin Stowell, Gemma Chan]  \n",
       "3                           [Bryan Brown, Sam Neill]  \n",
       "4        [Liam Neeson, Vera Farmiga, Patrick Wilson]  "
      ]
     },
     "execution_count": 29,
     "metadata": {},
     "output_type": "execute_result"
    }
   ],
   "source": [
    "movies_2018.head()"
   ]
  },
  {
   "cell_type": "code",
   "execution_count": 30,
   "metadata": {},
   "outputs": [],
   "source": [
    "def get_id(x):\n",
    "    result = tmdb_movie.search(x)\n",
    "    movie_id = result[0].id\n",
    "    return movie_id"
   ]
  },
  {
   "cell_type": "code",
   "execution_count": 31,
   "metadata": {},
   "outputs": [],
   "source": [
    "data = movies_2018.copy()"
   ]
  },
  {
   "cell_type": "code",
   "execution_count": 32,
   "metadata": {},
   "outputs": [],
   "source": [
    "data['movie_id'] = data['original_title'].map(lambda x: get_id(str(x)))"
   ]
  },
  {
   "cell_type": "code",
   "execution_count": 33,
   "metadata": {},
   "outputs": [
    {
     "data": {
      "text/html": [
       "<div>\n",
       "<style scoped>\n",
       "    .dataframe tbody tr th:only-of-type {\n",
       "        vertical-align: middle;\n",
       "    }\n",
       "\n",
       "    .dataframe tbody tr th {\n",
       "        vertical-align: top;\n",
       "    }\n",
       "\n",
       "    .dataframe thead th {\n",
       "        text-align: right;\n",
       "    }\n",
       "</style>\n",
       "<table border=\"1\" class=\"dataframe\">\n",
       "  <thead>\n",
       "    <tr style=\"text-align: right;\">\n",
       "      <th></th>\n",
       "      <th>genres</th>\n",
       "      <th>original_title</th>\n",
       "      <th>cast</th>\n",
       "      <th>movie_id</th>\n",
       "    </tr>\n",
       "  </thead>\n",
       "  <tbody>\n",
       "    <tr>\n",
       "      <th>0</th>\n",
       "      <td>[Mystery, Horror, Thriller]</td>\n",
       "      <td>Insidious: The Last Key</td>\n",
       "      <td>[Lin Shaye, Angus Sampson, Leigh Whannell]</td>\n",
       "      <td>406563</td>\n",
       "    </tr>\n",
       "    <tr>\n",
       "      <th>1</th>\n",
       "      <td>[Thriller, Drama]</td>\n",
       "      <td>The Strange Ones</td>\n",
       "      <td>[Alex Pettyfer, James Freedson-Jackson, Emily ...</td>\n",
       "      <td>426258</td>\n",
       "    </tr>\n",
       "    <tr>\n",
       "      <th>2</th>\n",
       "      <td>[Action, Thriller]</td>\n",
       "      <td>Stratton</td>\n",
       "      <td>[Dominic Cooper, Austin Stowell, Gemma Chan]</td>\n",
       "      <td>348389</td>\n",
       "    </tr>\n",
       "    <tr>\n",
       "      <th>3</th>\n",
       "      <td>[Drama, History, Western]</td>\n",
       "      <td>Sweet Country</td>\n",
       "      <td>[Bryan Brown, Sam Neill]</td>\n",
       "      <td>468210</td>\n",
       "    </tr>\n",
       "    <tr>\n",
       "      <th>4</th>\n",
       "      <td>[Action, Thriller]</td>\n",
       "      <td>The Commuter</td>\n",
       "      <td>[Liam Neeson, Vera Farmiga, Patrick Wilson]</td>\n",
       "      <td>399035</td>\n",
       "    </tr>\n",
       "  </tbody>\n",
       "</table>\n",
       "</div>"
      ],
      "text/plain": [
       "                        genres           original_title  \\\n",
       "0  [Mystery, Horror, Thriller]  Insidious: The Last Key   \n",
       "1            [Thriller, Drama]         The Strange Ones   \n",
       "2           [Action, Thriller]                 Stratton   \n",
       "3    [Drama, History, Western]            Sweet Country   \n",
       "4           [Action, Thriller]             The Commuter   \n",
       "\n",
       "                                                cast  movie_id  \n",
       "0         [Lin Shaye, Angus Sampson, Leigh Whannell]    406563  \n",
       "1  [Alex Pettyfer, James Freedson-Jackson, Emily ...    426258  \n",
       "2       [Dominic Cooper, Austin Stowell, Gemma Chan]    348389  \n",
       "3                           [Bryan Brown, Sam Neill]    468210  \n",
       "4        [Liam Neeson, Vera Farmiga, Patrick Wilson]    399035  "
      ]
     },
     "execution_count": 33,
     "metadata": {},
     "output_type": "execute_result"
    }
   ],
   "source": [
    "data.head()"
   ]
  },
  {
   "cell_type": "code",
   "execution_count": 34,
   "metadata": {},
   "outputs": [],
   "source": [
    "def get_overview(x):\n",
    "    result = tmdb_movie.search(x)\n",
    "    movie_id = result[0].id\n",
    "    movie_overview = result[0].overview\n",
    "    return movie_overview"
   ]
  },
  {
   "cell_type": "code",
   "execution_count": 35,
   "metadata": {},
   "outputs": [],
   "source": [
    "data['overview'] = data['original_title'].map(lambda x: get_overview(str(x)))"
   ]
  },
  {
   "cell_type": "code",
   "execution_count": 36,
   "metadata": {},
   "outputs": [
    {
     "data": {
      "text/html": [
       "<div>\n",
       "<style scoped>\n",
       "    .dataframe tbody tr th:only-of-type {\n",
       "        vertical-align: middle;\n",
       "    }\n",
       "\n",
       "    .dataframe tbody tr th {\n",
       "        vertical-align: top;\n",
       "    }\n",
       "\n",
       "    .dataframe thead th {\n",
       "        text-align: right;\n",
       "    }\n",
       "</style>\n",
       "<table border=\"1\" class=\"dataframe\">\n",
       "  <thead>\n",
       "    <tr style=\"text-align: right;\">\n",
       "      <th></th>\n",
       "      <th>genres</th>\n",
       "      <th>original_title</th>\n",
       "      <th>cast</th>\n",
       "      <th>movie_id</th>\n",
       "      <th>overview</th>\n",
       "    </tr>\n",
       "  </thead>\n",
       "  <tbody>\n",
       "    <tr>\n",
       "      <th>0</th>\n",
       "      <td>[Mystery, Horror, Thriller]</td>\n",
       "      <td>Insidious: The Last Key</td>\n",
       "      <td>[Lin Shaye, Angus Sampson, Leigh Whannell]</td>\n",
       "      <td>406563</td>\n",
       "      <td>Parapsychologist Elise Rainier and her team tr...</td>\n",
       "    </tr>\n",
       "    <tr>\n",
       "      <th>1</th>\n",
       "      <td>[Thriller, Drama]</td>\n",
       "      <td>The Strange Ones</td>\n",
       "      <td>[Alex Pettyfer, James Freedson-Jackson, Emily ...</td>\n",
       "      <td>426258</td>\n",
       "      <td>Mysterious events surround the travels of two ...</td>\n",
       "    </tr>\n",
       "    <tr>\n",
       "      <th>2</th>\n",
       "      <td>[Action, Thriller]</td>\n",
       "      <td>Stratton</td>\n",
       "      <td>[Dominic Cooper, Austin Stowell, Gemma Chan]</td>\n",
       "      <td>348389</td>\n",
       "      <td>A British Special Boat Service commando tracks...</td>\n",
       "    </tr>\n",
       "    <tr>\n",
       "      <th>3</th>\n",
       "      <td>[Drama, History, Western]</td>\n",
       "      <td>Sweet Country</td>\n",
       "      <td>[Bryan Brown, Sam Neill]</td>\n",
       "      <td>468210</td>\n",
       "      <td>It’s 1929 on the vast, desert-like, Eastern Ar...</td>\n",
       "    </tr>\n",
       "    <tr>\n",
       "      <th>4</th>\n",
       "      <td>[Action, Thriller]</td>\n",
       "      <td>The Commuter</td>\n",
       "      <td>[Liam Neeson, Vera Farmiga, Patrick Wilson]</td>\n",
       "      <td>399035</td>\n",
       "      <td>A businessman, on his daily commute home, gets...</td>\n",
       "    </tr>\n",
       "  </tbody>\n",
       "</table>\n",
       "</div>"
      ],
      "text/plain": [
       "                        genres           original_title  \\\n",
       "0  [Mystery, Horror, Thriller]  Insidious: The Last Key   \n",
       "1            [Thriller, Drama]         The Strange Ones   \n",
       "2           [Action, Thriller]                 Stratton   \n",
       "3    [Drama, History, Western]            Sweet Country   \n",
       "4           [Action, Thriller]             The Commuter   \n",
       "\n",
       "                                                cast  movie_id  \\\n",
       "0         [Lin Shaye, Angus Sampson, Leigh Whannell]    406563   \n",
       "1  [Alex Pettyfer, James Freedson-Jackson, Emily ...    426258   \n",
       "2       [Dominic Cooper, Austin Stowell, Gemma Chan]    348389   \n",
       "3                           [Bryan Brown, Sam Neill]    468210   \n",
       "4        [Liam Neeson, Vera Farmiga, Patrick Wilson]    399035   \n",
       "\n",
       "                                            overview  \n",
       "0  Parapsychologist Elise Rainier and her team tr...  \n",
       "1  Mysterious events surround the travels of two ...  \n",
       "2  A British Special Boat Service commando tracks...  \n",
       "3  It’s 1929 on the vast, desert-like, Eastern Ar...  \n",
       "4  A businessman, on his daily commute home, gets...  "
      ]
     },
     "execution_count": 36,
     "metadata": {},
     "output_type": "execute_result"
    }
   ],
   "source": [
    "data.head()"
   ]
  },
  {
   "cell_type": "code",
   "execution_count": 37,
   "metadata": {},
   "outputs": [
    {
     "data": {
      "text/html": [
       "<div>\n",
       "<style scoped>\n",
       "    .dataframe tbody tr th:only-of-type {\n",
       "        vertical-align: middle;\n",
       "    }\n",
       "\n",
       "    .dataframe tbody tr th {\n",
       "        vertical-align: top;\n",
       "    }\n",
       "\n",
       "    .dataframe thead th {\n",
       "        text-align: right;\n",
       "    }\n",
       "</style>\n",
       "<table border=\"1\" class=\"dataframe\">\n",
       "  <thead>\n",
       "    <tr style=\"text-align: right;\">\n",
       "      <th></th>\n",
       "      <th>genres</th>\n",
       "      <th>movie_id</th>\n",
       "      <th>original_title</th>\n",
       "      <th>overview</th>\n",
       "      <th>cast</th>\n",
       "    </tr>\n",
       "  </thead>\n",
       "  <tbody>\n",
       "    <tr>\n",
       "      <th>0</th>\n",
       "      <td>[Mystery, Horror, Thriller]</td>\n",
       "      <td>406563</td>\n",
       "      <td>Insidious: The Last Key</td>\n",
       "      <td>Parapsychologist Elise Rainier and her team tr...</td>\n",
       "      <td>[Lin Shaye, Angus Sampson, Leigh Whannell]</td>\n",
       "    </tr>\n",
       "    <tr>\n",
       "      <th>1</th>\n",
       "      <td>[Thriller, Drama]</td>\n",
       "      <td>426258</td>\n",
       "      <td>The Strange Ones</td>\n",
       "      <td>Mysterious events surround the travels of two ...</td>\n",
       "      <td>[Alex Pettyfer, James Freedson-Jackson, Emily ...</td>\n",
       "    </tr>\n",
       "    <tr>\n",
       "      <th>2</th>\n",
       "      <td>[Action, Thriller]</td>\n",
       "      <td>348389</td>\n",
       "      <td>Stratton</td>\n",
       "      <td>A British Special Boat Service commando tracks...</td>\n",
       "      <td>[Dominic Cooper, Austin Stowell, Gemma Chan]</td>\n",
       "    </tr>\n",
       "    <tr>\n",
       "      <th>3</th>\n",
       "      <td>[Drama, History, Western]</td>\n",
       "      <td>468210</td>\n",
       "      <td>Sweet Country</td>\n",
       "      <td>It’s 1929 on the vast, desert-like, Eastern Ar...</td>\n",
       "      <td>[Bryan Brown, Sam Neill]</td>\n",
       "    </tr>\n",
       "    <tr>\n",
       "      <th>4</th>\n",
       "      <td>[Action, Thriller]</td>\n",
       "      <td>399035</td>\n",
       "      <td>The Commuter</td>\n",
       "      <td>A businessman, on his daily commute home, gets...</td>\n",
       "      <td>[Liam Neeson, Vera Farmiga, Patrick Wilson]</td>\n",
       "    </tr>\n",
       "  </tbody>\n",
       "</table>\n",
       "</div>"
      ],
      "text/plain": [
       "                        genres  movie_id           original_title  \\\n",
       "0  [Mystery, Horror, Thriller]    406563  Insidious: The Last Key   \n",
       "1            [Thriller, Drama]    426258         The Strange Ones   \n",
       "2           [Action, Thriller]    348389                 Stratton   \n",
       "3    [Drama, History, Western]    468210            Sweet Country   \n",
       "4           [Action, Thriller]    399035             The Commuter   \n",
       "\n",
       "                                            overview  \\\n",
       "0  Parapsychologist Elise Rainier and her team tr...   \n",
       "1  Mysterious events surround the travels of two ...   \n",
       "2  A British Special Boat Service commando tracks...   \n",
       "3  It’s 1929 on the vast, desert-like, Eastern Ar...   \n",
       "4  A businessman, on his daily commute home, gets...   \n",
       "\n",
       "                                                cast  \n",
       "0         [Lin Shaye, Angus Sampson, Leigh Whannell]  \n",
       "1  [Alex Pettyfer, James Freedson-Jackson, Emily ...  \n",
       "2       [Dominic Cooper, Austin Stowell, Gemma Chan]  \n",
       "3                           [Bryan Brown, Sam Neill]  \n",
       "4        [Liam Neeson, Vera Farmiga, Patrick Wilson]  "
      ]
     },
     "execution_count": 37,
     "metadata": {},
     "output_type": "execute_result"
    }
   ],
   "source": [
    "movies_newdf = data.loc[:, ['genres','movie_id','original_title','overview','cast']]\n",
    "movies_newdf.head()"
   ]
  },
  {
   "cell_type": "code",
   "execution_count": 48,
   "metadata": {},
   "outputs": [
    {
     "data": {
      "text/plain": [
       "(265, 5)"
      ]
     },
     "execution_count": 48,
     "metadata": {},
     "output_type": "execute_result"
    }
   ],
   "source": [
    "movies_newdf.shape"
   ]
  },
  {
   "cell_type": "markdown",
   "metadata": {},
   "source": [
    "### Combining with old dataset"
   ]
  },
  {
   "cell_type": "code",
   "execution_count": 38,
   "metadata": {},
   "outputs": [],
   "source": [
    "old = pd.read_csv(\"new_data.csv\")"
   ]
  },
  {
   "cell_type": "code",
   "execution_count": 39,
   "metadata": {},
   "outputs": [],
   "source": [
    "new_data = old.append(movies_newdf)"
   ]
  },
  {
   "cell_type": "code",
   "execution_count": 40,
   "metadata": {},
   "outputs": [
    {
     "data": {
      "text/plain": [
       "(5574, 5)"
      ]
     },
     "execution_count": 40,
     "metadata": {},
     "output_type": "execute_result"
    }
   ],
   "source": [
    "new_data.shape"
   ]
  },
  {
   "cell_type": "code",
   "execution_count": 41,
   "metadata": {},
   "outputs": [],
   "source": [
    "new_data.drop_duplicates(subset= 'original_title', keep= 'last', inplace= True)"
   ]
  },
  {
   "cell_type": "code",
   "execution_count": 42,
   "metadata": {},
   "outputs": [
    {
     "data": {
      "text/plain": [
       "(5566, 5)"
      ]
     },
     "execution_count": 42,
     "metadata": {},
     "output_type": "execute_result"
    }
   ],
   "source": [
    "new_data.shape"
   ]
  },
  {
   "cell_type": "code",
   "execution_count": 46,
   "metadata": {},
   "outputs": [],
   "source": [
    "new_data.to_csv(\"new_data18.csv\", index= False)"
   ]
  },
  {
   "cell_type": "code",
   "execution_count": null,
   "metadata": {},
   "outputs": [],
   "source": []
  }
 ],
 "metadata": {
  "kernelspec": {
   "display_name": "Python 3",
   "language": "python",
   "name": "python3"
  },
  "language_info": {
   "codemirror_mode": {
    "name": "ipython",
    "version": 3
   },
   "file_extension": ".py",
   "mimetype": "text/x-python",
   "name": "python",
   "nbconvert_exporter": "python",
   "pygments_lexer": "ipython3",
   "version": "3.7.4"
  }
 },
 "nbformat": 4,
 "nbformat_minor": 4
}
